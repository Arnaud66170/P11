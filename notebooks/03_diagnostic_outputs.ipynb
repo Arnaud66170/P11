{
 "cells": [
  {
   "cell_type": "markdown",
   "id": "f7648f27",
   "metadata": {},
   "source": [
    "## notebooks/02_diagnostic_outputs.ipynb\n",
    "# Notebook de diagnostic du dossier outputs/"
   ]
  },
  {
   "cell_type": "code",
   "execution_count": 1,
   "id": "27be37a5",
   "metadata": {},
   "outputs": [],
   "source": [
    "from pyspark.sql import SparkSession\n",
    "import os\n",
    "import glob\n",
    "from pprint import pprint"
   ]
  },
  {
   "cell_type": "markdown",
   "id": "f099c611",
   "metadata": {},
   "source": [
    "# 1. Initialisation Spark minimal"
   ]
  },
  {
   "cell_type": "code",
   "execution_count": 2,
   "id": "d2d9c325",
   "metadata": {},
   "outputs": [
    {
     "name": "stderr",
     "output_type": "stream",
     "text": [
      "your 131072x1 screen size is bogus. expect trouble\n",
      "25/07/23 08:32:34 WARN Utils: Your hostname, PC-ARNAUD resolves to a loopback address: 127.0.1.1; using 10.255.255.254 instead (on interface lo)\n",
      "25/07/23 08:32:34 WARN Utils: Set SPARK_LOCAL_IP if you need to bind to another address\n",
      "Setting default log level to \"WARN\".\n",
      "To adjust logging level use sc.setLogLevel(newLevel). For SparkR, use setLogLevel(newLevel).\n",
      "25/07/23 08:32:35 WARN NativeCodeLoader: Unable to load native-hadoop library for your platform... using builtin-java classes where applicable\n",
      "25/07/23 08:32:36 WARN Utils: Service 'SparkUI' could not bind on port 4040. Attempting port 4041.\n"
     ]
    }
   ],
   "source": [
    "spark = SparkSession.builder \\\n",
    "    .appName(\"DiagnosticOutputs\") \\\n",
    "    .master(\"local[*]\") \\\n",
    "    .getOrCreate()\n",
    "sc = spark.sparkContext\n",
    "sc.setLogLevel(\"WARN\")"
   ]
  },
  {
   "cell_type": "markdown",
   "id": "75240560",
   "metadata": {},
   "source": [
    "# 2. Détection de tous les fichiers Parquet dans outputs/"
   ]
  },
  {
   "cell_type": "code",
   "execution_count": 3,
   "id": "6b966fb5",
   "metadata": {},
   "outputs": [
    {
     "name": "stdout",
     "output_type": "stream",
     "text": [
      "\n",
      "📦 Fichiers .parquet trouvés :\n",
      "- /home/nono66/P11/2-python/outputs/images_cache.parquet\n",
      "- /home/nono66/P11/2-python/outputs/Results_Local/features_extracted.parquet\n",
      "- /home/nono66/P11/2-python/outputs/Results_Local/features_extracted.parquet/part-00006-ddcef2ce-7d6a-4d3a-8f1b-ca3079277753-c000.snappy.parquet\n",
      "- /home/nono66/P11/2-python/outputs/Results_Local/features_extracted.parquet/part-00014-ddcef2ce-7d6a-4d3a-8f1b-ca3079277753-c000.snappy.parquet\n",
      "- /home/nono66/P11/2-python/outputs/Results_Local/features_extracted.parquet/part-00004-ddcef2ce-7d6a-4d3a-8f1b-ca3079277753-c000.snappy.parquet\n",
      "- /home/nono66/P11/2-python/outputs/Results_Local/features_extracted.parquet/part-00008-ddcef2ce-7d6a-4d3a-8f1b-ca3079277753-c000.snappy.parquet\n",
      "- /home/nono66/P11/2-python/outputs/Results_Local/features_extracted.parquet/part-00013-ddcef2ce-7d6a-4d3a-8f1b-ca3079277753-c000.snappy.parquet\n",
      "- /home/nono66/P11/2-python/outputs/Results_Local/features_extracted.parquet/part-00010-ddcef2ce-7d6a-4d3a-8f1b-ca3079277753-c000.snappy.parquet\n",
      "- /home/nono66/P11/2-python/outputs/Results_Local/features_extracted.parquet/part-00000-ddcef2ce-7d6a-4d3a-8f1b-ca3079277753-c000.snappy.parquet\n",
      "- /home/nono66/P11/2-python/outputs/Results_Local/features_extracted.parquet/part-00009-ddcef2ce-7d6a-4d3a-8f1b-ca3079277753-c000.snappy.parquet\n",
      "- /home/nono66/P11/2-python/outputs/Results_Local/features_extracted.parquet/part-00012-ddcef2ce-7d6a-4d3a-8f1b-ca3079277753-c000.snappy.parquet\n",
      "- /home/nono66/P11/2-python/outputs/Results_Local/features_extracted.parquet/part-00001-ddcef2ce-7d6a-4d3a-8f1b-ca3079277753-c000.snappy.parquet\n",
      "- /home/nono66/P11/2-python/outputs/Results_Local/features_extracted.parquet/part-00011-ddcef2ce-7d6a-4d3a-8f1b-ca3079277753-c000.snappy.parquet\n",
      "- /home/nono66/P11/2-python/outputs/Results_Local/features_extracted.parquet/part-00015-ddcef2ce-7d6a-4d3a-8f1b-ca3079277753-c000.snappy.parquet\n",
      "- /home/nono66/P11/2-python/outputs/Results_Local/features_extracted.parquet/part-00003-ddcef2ce-7d6a-4d3a-8f1b-ca3079277753-c000.snappy.parquet\n",
      "- /home/nono66/P11/2-python/outputs/Results_Local/features_extracted.parquet/part-00005-ddcef2ce-7d6a-4d3a-8f1b-ca3079277753-c000.snappy.parquet\n",
      "- /home/nono66/P11/2-python/outputs/Results_Local/features_extracted.parquet/part-00002-ddcef2ce-7d6a-4d3a-8f1b-ca3079277753-c000.snappy.parquet\n",
      "- /home/nono66/P11/2-python/outputs/Results_Local/features_extracted.parquet/part-00007-ddcef2ce-7d6a-4d3a-8f1b-ca3079277753-c000.snappy.parquet\n",
      "- /home/nono66/P11/2-python/outputs/images_cache.parquet/part-00005-bfdda4bf-87bf-46f2-bf00-4963588081bc-c000.snappy.parquet\n",
      "- /home/nono66/P11/2-python/outputs/images_cache.parquet/part-00000-bfdda4bf-87bf-46f2-bf00-4963588081bc-c000.snappy.parquet\n",
      "- /home/nono66/P11/2-python/outputs/images_cache.parquet/part-00004-bfdda4bf-87bf-46f2-bf00-4963588081bc-c000.snappy.parquet\n",
      "- /home/nono66/P11/2-python/outputs/images_cache.parquet/part-00011-bfdda4bf-87bf-46f2-bf00-4963588081bc-c000.snappy.parquet\n",
      "- /home/nono66/P11/2-python/outputs/images_cache.parquet/part-00008-bfdda4bf-87bf-46f2-bf00-4963588081bc-c000.snappy.parquet\n",
      "- /home/nono66/P11/2-python/outputs/images_cache.parquet/part-00009-bfdda4bf-87bf-46f2-bf00-4963588081bc-c000.snappy.parquet\n",
      "- /home/nono66/P11/2-python/outputs/images_cache.parquet/part-00006-bfdda4bf-87bf-46f2-bf00-4963588081bc-c000.snappy.parquet\n",
      "- /home/nono66/P11/2-python/outputs/images_cache.parquet/part-00014-bfdda4bf-87bf-46f2-bf00-4963588081bc-c000.snappy.parquet\n",
      "- /home/nono66/P11/2-python/outputs/images_cache.parquet/part-00007-bfdda4bf-87bf-46f2-bf00-4963588081bc-c000.snappy.parquet\n",
      "- /home/nono66/P11/2-python/outputs/images_cache.parquet/part-00002-bfdda4bf-87bf-46f2-bf00-4963588081bc-c000.snappy.parquet\n",
      "- /home/nono66/P11/2-python/outputs/images_cache.parquet/part-00010-bfdda4bf-87bf-46f2-bf00-4963588081bc-c000.snappy.parquet\n",
      "- /home/nono66/P11/2-python/outputs/images_cache.parquet/part-00012-bfdda4bf-87bf-46f2-bf00-4963588081bc-c000.snappy.parquet\n",
      "- /home/nono66/P11/2-python/outputs/images_cache.parquet/part-00013-bfdda4bf-87bf-46f2-bf00-4963588081bc-c000.snappy.parquet\n",
      "- /home/nono66/P11/2-python/outputs/images_cache.parquet/part-00001-bfdda4bf-87bf-46f2-bf00-4963588081bc-c000.snappy.parquet\n",
      "- /home/nono66/P11/2-python/outputs/images_cache.parquet/part-00003-bfdda4bf-87bf-46f2-bf00-4963588081bc-c000.snappy.parquet\n",
      "- /home/nono66/P11/2-python/outputs/images_cache.parquet/part-00015-bfdda4bf-87bf-46f2-bf00-4963588081bc-c000.snappy.parquet\n",
      "- /home/nono66/P11/2-python/outputs/batches/batch_0.parquet\n",
      "- /home/nono66/P11/2-python/outputs/batches/batch_0.parquet/part-00004-7d974af1-f039-4fc5-a184-69fcc4821467-c000.snappy.parquet\n",
      "- /home/nono66/P11/2-python/outputs/batches/batch_0.parquet/part-00012-7d974af1-f039-4fc5-a184-69fcc4821467-c000.snappy.parquet\n",
      "- /home/nono66/P11/2-python/outputs/batches/batch_0.parquet/part-00005-7d974af1-f039-4fc5-a184-69fcc4821467-c000.snappy.parquet\n",
      "- /home/nono66/P11/2-python/outputs/batches/batch_0.parquet/part-00011-7d974af1-f039-4fc5-a184-69fcc4821467-c000.snappy.parquet\n",
      "- /home/nono66/P11/2-python/outputs/batches/batch_0.parquet/part-00003-7d974af1-f039-4fc5-a184-69fcc4821467-c000.snappy.parquet\n",
      "- /home/nono66/P11/2-python/outputs/batches/batch_0.parquet/part-00006-7d974af1-f039-4fc5-a184-69fcc4821467-c000.snappy.parquet\n",
      "- /home/nono66/P11/2-python/outputs/batches/batch_0.parquet/part-00000-7d974af1-f039-4fc5-a184-69fcc4821467-c000.snappy.parquet\n",
      "- /home/nono66/P11/2-python/outputs/batches/batch_0.parquet/part-00010-7d974af1-f039-4fc5-a184-69fcc4821467-c000.snappy.parquet\n",
      "- /home/nono66/P11/2-python/outputs/batches/batch_0.parquet/part-00015-7d974af1-f039-4fc5-a184-69fcc4821467-c000.snappy.parquet\n",
      "- /home/nono66/P11/2-python/outputs/batches/batch_0.parquet/part-00007-7d974af1-f039-4fc5-a184-69fcc4821467-c000.snappy.parquet\n",
      "- /home/nono66/P11/2-python/outputs/batches/batch_0.parquet/part-00013-7d974af1-f039-4fc5-a184-69fcc4821467-c000.snappy.parquet\n",
      "- /home/nono66/P11/2-python/outputs/batches/batch_0.parquet/part-00002-7d974af1-f039-4fc5-a184-69fcc4821467-c000.snappy.parquet\n",
      "- /home/nono66/P11/2-python/outputs/batches/batch_0.parquet/part-00014-7d974af1-f039-4fc5-a184-69fcc4821467-c000.snappy.parquet\n",
      "- /home/nono66/P11/2-python/outputs/batches/batch_0.parquet/part-00009-7d974af1-f039-4fc5-a184-69fcc4821467-c000.snappy.parquet\n",
      "- /home/nono66/P11/2-python/outputs/batches/batch_0.parquet/part-00008-7d974af1-f039-4fc5-a184-69fcc4821467-c000.snappy.parquet\n",
      "- /home/nono66/P11/2-python/outputs/batches/batch_0.parquet/part-00001-7d974af1-f039-4fc5-a184-69fcc4821467-c000.snappy.parquet\n"
     ]
    }
   ],
   "source": [
    "outputs_dir = os.path.abspath(\"../outputs\")\n",
    "parquet_files = glob.glob(os.path.join(outputs_dir, \"**\", \"*.parquet\"), recursive=True)\n",
    "print(\"\\n📦 Fichiers .parquet trouvés :\")\n",
    "for path in parquet_files:\n",
    "    print(\"-\", path)"
   ]
  },
  {
   "cell_type": "markdown",
   "id": "e00ad218",
   "metadata": {},
   "source": [
    "# 3. Détection des fichiers CRC + part-**** dans outputs/ (fragments)"
   ]
  },
  {
   "cell_type": "code",
   "execution_count": 4,
   "id": "d046731e",
   "metadata": {},
   "outputs": [
    {
     "name": "stdout",
     "output_type": "stream",
     "text": [
      "\n",
      "📂 Fichiers part-*.parquet + .crc :\n",
      "- /home/nono66/P11/2-python/outputs/Results_Local/features_extracted.parquet/part-00006-ddcef2ce-7d6a-4d3a-8f1b-ca3079277753-c000.snappy.parquet\n",
      "- /home/nono66/P11/2-python/outputs/Results_Local/features_extracted.parquet/part-00014-ddcef2ce-7d6a-4d3a-8f1b-ca3079277753-c000.snappy.parquet\n",
      "- /home/nono66/P11/2-python/outputs/Results_Local/features_extracted.parquet/part-00004-ddcef2ce-7d6a-4d3a-8f1b-ca3079277753-c000.snappy.parquet\n",
      "- /home/nono66/P11/2-python/outputs/Results_Local/features_extracted.parquet/part-00008-ddcef2ce-7d6a-4d3a-8f1b-ca3079277753-c000.snappy.parquet\n",
      "- /home/nono66/P11/2-python/outputs/Results_Local/features_extracted.parquet/part-00013-ddcef2ce-7d6a-4d3a-8f1b-ca3079277753-c000.snappy.parquet\n",
      "- /home/nono66/P11/2-python/outputs/Results_Local/features_extracted.parquet/part-00010-ddcef2ce-7d6a-4d3a-8f1b-ca3079277753-c000.snappy.parquet\n",
      "- /home/nono66/P11/2-python/outputs/Results_Local/features_extracted.parquet/part-00000-ddcef2ce-7d6a-4d3a-8f1b-ca3079277753-c000.snappy.parquet\n",
      "- /home/nono66/P11/2-python/outputs/Results_Local/features_extracted.parquet/part-00009-ddcef2ce-7d6a-4d3a-8f1b-ca3079277753-c000.snappy.parquet\n",
      "- /home/nono66/P11/2-python/outputs/Results_Local/features_extracted.parquet/part-00012-ddcef2ce-7d6a-4d3a-8f1b-ca3079277753-c000.snappy.parquet\n",
      "- /home/nono66/P11/2-python/outputs/Results_Local/features_extracted.parquet/part-00001-ddcef2ce-7d6a-4d3a-8f1b-ca3079277753-c000.snappy.parquet\n",
      "- /home/nono66/P11/2-python/outputs/Results_Local/features_extracted.parquet/part-00011-ddcef2ce-7d6a-4d3a-8f1b-ca3079277753-c000.snappy.parquet\n",
      "- /home/nono66/P11/2-python/outputs/Results_Local/features_extracted.parquet/part-00015-ddcef2ce-7d6a-4d3a-8f1b-ca3079277753-c000.snappy.parquet\n",
      "- /home/nono66/P11/2-python/outputs/Results_Local/features_extracted.parquet/part-00003-ddcef2ce-7d6a-4d3a-8f1b-ca3079277753-c000.snappy.parquet\n",
      "- /home/nono66/P11/2-python/outputs/Results_Local/features_extracted.parquet/part-00005-ddcef2ce-7d6a-4d3a-8f1b-ca3079277753-c000.snappy.parquet\n",
      "- /home/nono66/P11/2-python/outputs/Results_Local/features_extracted.parquet/part-00002-ddcef2ce-7d6a-4d3a-8f1b-ca3079277753-c000.snappy.parquet\n",
      "- /home/nono66/P11/2-python/outputs/Results_Local/features_extracted.parquet/part-00007-ddcef2ce-7d6a-4d3a-8f1b-ca3079277753-c000.snappy.parquet\n",
      "- /home/nono66/P11/2-python/outputs/images_cache.parquet/part-00005-bfdda4bf-87bf-46f2-bf00-4963588081bc-c000.snappy.parquet\n",
      "- /home/nono66/P11/2-python/outputs/images_cache.parquet/part-00000-bfdda4bf-87bf-46f2-bf00-4963588081bc-c000.snappy.parquet\n",
      "- /home/nono66/P11/2-python/outputs/images_cache.parquet/part-00004-bfdda4bf-87bf-46f2-bf00-4963588081bc-c000.snappy.parquet\n",
      "- /home/nono66/P11/2-python/outputs/images_cache.parquet/part-00011-bfdda4bf-87bf-46f2-bf00-4963588081bc-c000.snappy.parquet\n",
      "- /home/nono66/P11/2-python/outputs/images_cache.parquet/part-00008-bfdda4bf-87bf-46f2-bf00-4963588081bc-c000.snappy.parquet\n",
      "- /home/nono66/P11/2-python/outputs/images_cache.parquet/part-00009-bfdda4bf-87bf-46f2-bf00-4963588081bc-c000.snappy.parquet\n",
      "- /home/nono66/P11/2-python/outputs/images_cache.parquet/part-00006-bfdda4bf-87bf-46f2-bf00-4963588081bc-c000.snappy.parquet\n",
      "- /home/nono66/P11/2-python/outputs/images_cache.parquet/part-00014-bfdda4bf-87bf-46f2-bf00-4963588081bc-c000.snappy.parquet\n",
      "- /home/nono66/P11/2-python/outputs/images_cache.parquet/part-00007-bfdda4bf-87bf-46f2-bf00-4963588081bc-c000.snappy.parquet\n",
      "- /home/nono66/P11/2-python/outputs/images_cache.parquet/part-00002-bfdda4bf-87bf-46f2-bf00-4963588081bc-c000.snappy.parquet\n",
      "- /home/nono66/P11/2-python/outputs/images_cache.parquet/part-00010-bfdda4bf-87bf-46f2-bf00-4963588081bc-c000.snappy.parquet\n",
      "- /home/nono66/P11/2-python/outputs/images_cache.parquet/part-00012-bfdda4bf-87bf-46f2-bf00-4963588081bc-c000.snappy.parquet\n",
      "- /home/nono66/P11/2-python/outputs/images_cache.parquet/part-00013-bfdda4bf-87bf-46f2-bf00-4963588081bc-c000.snappy.parquet\n",
      "- /home/nono66/P11/2-python/outputs/images_cache.parquet/part-00001-bfdda4bf-87bf-46f2-bf00-4963588081bc-c000.snappy.parquet\n",
      "- /home/nono66/P11/2-python/outputs/images_cache.parquet/part-00003-bfdda4bf-87bf-46f2-bf00-4963588081bc-c000.snappy.parquet\n",
      "- /home/nono66/P11/2-python/outputs/images_cache.parquet/part-00015-bfdda4bf-87bf-46f2-bf00-4963588081bc-c000.snappy.parquet\n",
      "- /home/nono66/P11/2-python/outputs/batches/batch_0.parquet/part-00004-7d974af1-f039-4fc5-a184-69fcc4821467-c000.snappy.parquet\n",
      "- /home/nono66/P11/2-python/outputs/batches/batch_0.parquet/part-00012-7d974af1-f039-4fc5-a184-69fcc4821467-c000.snappy.parquet\n",
      "- /home/nono66/P11/2-python/outputs/batches/batch_0.parquet/part-00005-7d974af1-f039-4fc5-a184-69fcc4821467-c000.snappy.parquet\n",
      "- /home/nono66/P11/2-python/outputs/batches/batch_0.parquet/part-00011-7d974af1-f039-4fc5-a184-69fcc4821467-c000.snappy.parquet\n",
      "- /home/nono66/P11/2-python/outputs/batches/batch_0.parquet/part-00003-7d974af1-f039-4fc5-a184-69fcc4821467-c000.snappy.parquet\n",
      "- /home/nono66/P11/2-python/outputs/batches/batch_0.parquet/part-00006-7d974af1-f039-4fc5-a184-69fcc4821467-c000.snappy.parquet\n",
      "- /home/nono66/P11/2-python/outputs/batches/batch_0.parquet/part-00000-7d974af1-f039-4fc5-a184-69fcc4821467-c000.snappy.parquet\n",
      "- /home/nono66/P11/2-python/outputs/batches/batch_0.parquet/part-00010-7d974af1-f039-4fc5-a184-69fcc4821467-c000.snappy.parquet\n",
      "- /home/nono66/P11/2-python/outputs/batches/batch_0.parquet/part-00015-7d974af1-f039-4fc5-a184-69fcc4821467-c000.snappy.parquet\n",
      "- /home/nono66/P11/2-python/outputs/batches/batch_0.parquet/part-00007-7d974af1-f039-4fc5-a184-69fcc4821467-c000.snappy.parquet\n",
      "- /home/nono66/P11/2-python/outputs/batches/batch_0.parquet/part-00013-7d974af1-f039-4fc5-a184-69fcc4821467-c000.snappy.parquet\n",
      "- /home/nono66/P11/2-python/outputs/batches/batch_0.parquet/part-00002-7d974af1-f039-4fc5-a184-69fcc4821467-c000.snappy.parquet\n",
      "- /home/nono66/P11/2-python/outputs/batches/batch_0.parquet/part-00014-7d974af1-f039-4fc5-a184-69fcc4821467-c000.snappy.parquet\n",
      "- /home/nono66/P11/2-python/outputs/batches/batch_0.parquet/part-00009-7d974af1-f039-4fc5-a184-69fcc4821467-c000.snappy.parquet\n",
      "- /home/nono66/P11/2-python/outputs/batches/batch_0.parquet/part-00008-7d974af1-f039-4fc5-a184-69fcc4821467-c000.snappy.parquet\n",
      "- /home/nono66/P11/2-python/outputs/batches/batch_0.parquet/part-00001-7d974af1-f039-4fc5-a184-69fcc4821467-c000.snappy.parquet\n"
     ]
    }
   ],
   "source": [
    "print(\"\\n📂 Fichiers part-*.parquet + .crc :\")\n",
    "all_files = glob.glob(os.path.join(outputs_dir, \"**\"), recursive=True)\n",
    "for f in all_files:\n",
    "    if any(x in f for x in [\"part-\", \".crc\"]):\n",
    "        print(\"-\", f)"
   ]
  },
  {
   "cell_type": "markdown",
   "id": "e76e1271",
   "metadata": {},
   "source": [
    "# 4. Inspection des schémas Parquet"
   ]
  },
  {
   "cell_type": "code",
   "execution_count": null,
   "id": "e432d7b7",
   "metadata": {},
   "outputs": [],
   "source": []
  },
  {
   "cell_type": "code",
   "execution_count": null,
   "id": "9280664a",
   "metadata": {},
   "outputs": [],
   "source": []
  }
 ],
 "metadata": {
  "kernelspec": {
   "display_name": "Python (venv_p11)",
   "language": "python",
   "name": "venv_p11"
  },
  "language_info": {
   "codemirror_mode": {
    "name": "ipython",
    "version": 3
   },
   "file_extension": ".py",
   "mimetype": "text/x-python",
   "name": "python",
   "nbconvert_exporter": "python",
   "pygments_lexer": "ipython3",
   "version": "3.10.12"
  }
 },
 "nbformat": 4,
 "nbformat_minor": 5
}
