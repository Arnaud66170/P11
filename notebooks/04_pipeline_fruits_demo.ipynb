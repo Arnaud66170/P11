{
 "cells": [
  {
   "cell_type": "markdown",
   "id": "a55d4159",
   "metadata": {},
   "source": [
    "# ============================================================================\n",
    "# Partie 1 : Préparation environnement\n",
    "# ============================================================================\n",
    "## 1.1 - Activation Environnement Local"
   ]
  },
  {
   "cell_type": "code",
   "execution_count": null,
   "id": "6beb6e94",
   "metadata": {},
   "outputs": [],
   "source": [
    "# 1. Démarrer WSL2 Ubuntu (depuis PowerShell Windows)\n",
    "wsl\n",
    "\n",
    "# 2. Naviguer vers le projet P11\n",
    "cd ~/P11/2-python\n",
    "\n",
    "# 3. Activer l'environnement Python\n",
    "source venv_p11/bin/activate\n",
    "\n",
    "# 4. Vérifier la configuration AWS (région RGPD obligatoire)\n",
    "aws configure list\n",
    "# Doit afficher région: eu-west-1\n",
    "\n",
    "# 5. Test connectivité AWS\n",
    "aws sts get-caller-identity --region eu-west-1\n",
    "# ✅ Doit retourner mon identité sans erreur"
   ]
  },
  {
   "cell_type": "markdown",
   "id": "173bc816",
   "metadata": {},
   "source": [
    "- Utilité de ces étapes :\n",
    "    - WSL2 : Environnement Linux natif pour Spark (évite bugs Windows)\n",
    "    - eu-west-1 : Conformité RGPD obligatoire (serveurs irlandais)\n",
    "    - Test AWS : Validation avant création cluster (évite échecs)\n",
    "\n",
    "## 1.2 - Vérification Infrastructure S3"
   ]
  },
  {
   "cell_type": "code",
   "execution_count": null,
   "id": "b457f042",
   "metadata": {},
   "outputs": [],
   "source": [
    "# Vérifier l'existence du bucket de données\n",
    "aws s3 ls s3://fruits-p11-production --region eu-west-1\n",
    "\n",
    "# Doit afficher la structure :\n",
    "#                           PRE bootstrap/\n",
    "#                           PRE logs/\n",
    "#                           PRE raw-data/\n",
    "#                           PRE results/"
   ]
  },
  {
   "cell_type": "markdown",
   "id": "880cf5d8",
   "metadata": {},
   "source": [
    "-  Pourquoi S3 :\n",
    "    - Data Lake : Stockage distribué pour 80k+ images Fruits-360\n",
    "    - Séparation stockage/calcul : Architecture cloud native\n",
    "    - Durabilité : 99.999999999% (11 9's) de fiabilité\n",
    "\n",
    "# ============================================================================\n",
    "# 2 - PARTIE 2 : DÉPLOIEMENT CLUSTER EMR\n",
    "# ============================================================================\n",
    "\n",
    "## 2.1 - Création Cluster (Méthode Stable - Sans Bootstrap)"
   ]
  },
  {
   "cell_type": "code",
   "execution_count": null,
   "id": "5c0f3022",
   "metadata": {},
   "outputs": [],
   "source": [
    "# Se positionner dans le dossier scripts\n",
    "cd scripts/\n",
    "\n",
    "# Commande de création cluster (testée et fonctionnelle)\n",
    "echo \"🚀 Création cluster EMR - Pipeline Fruits P11...\"\n",
    "\n",
    "CLUSTER_ID=$(aws emr create-cluster \\\n",
    "    --applications Name=Hadoop Name=Spark Name=Zeppelin \\\n",
    "    --name \"p11-fruits-pipeline\" \\\n",
    "    --release-label emr-6.15.0 \\\n",
    "    --instance-type m5.xlarge \\\n",
    "    --instance-count 2 \\\n",
    "    --ec2-attributes KeyName=p11-keypair \\\n",
    "    --region eu-west-1 \\\n",
    "    --query 'ClusterId' \\\n",
    "    --output text)\n",
    "\n",
    "echo \"✅ Cluster créé: $CLUSTER_ID\"\n",
    "\n",
    "# Sauvegarde pour les étapes suivantes\n",
    "mkdir -p ../aws-config\n",
    "echo \"$CLUSTER_ID\" > ../aws-config/cluster-id.txt\n",
    "export CLUSTER_ID\n",
    "\n",
    "echo \"⏱️  Initialisation: 12-15 minutes (sans bootstrap)\""
   ]
  },
  {
   "cell_type": "markdown",
   "id": "79836619",
   "metadata": {},
   "source": [
    "- Pourquoi cette configuration :\n",
    "    - Sans bootstrap : Plus fiable (évite échecs d'installation TensorFlow)\n",
    "    - 2 instances m5.xlarge : 8 vCPU + 16GB RAM = 16 cores total\n",
    "    - Région eu-west-1 : Conformité RGPD (données européennes)\n",
    "    - Coût maîtrisé : ~0.30€/heure (budget <10€ respecté)\n",
    "\n",
    "## 2.2 - Surveillance État Cluster"
   ]
  },
  {
   "cell_type": "code",
   "execution_count": null,
   "id": "8a83e0e0",
   "metadata": {},
   "outputs": [],
   "source": [
    "# Récupérer l'ID du cluster\n",
    "export CLUSTER_ID=$(cat ../aws-config/cluster-id.txt)\n",
    "\n",
    "# Surveillance automatique avec timing\n",
    "watch -n 10 \"echo '⏱️ ' $(date '+%H:%M:%S') ' - État:' && aws emr describe-cluster --cluster-id $CLUSTER_ID --region eu-west-1 --query 'Cluster.Status.State' --output text\"\n",
    "\n",
    "# Timeline normale (SANS bootstrap) :\n",
    "# 0-8 min    : STARTING (instances EC2 démarrent)\n",
    "# 8-12 min   : RUNNING (Spark/Zeppelin s'initialisent)  \n",
    "# 12-15 min  : WAITING ✅ PRÊT POUR LA DEMO !\n",
    "\n",
    "# Arrêter la surveillance avec Ctrl+C quand état = WAITING"
   ]
  },
  {
   "cell_type": "markdown",
   "id": "18873952",
   "metadata": {},
   "source": [
    "- Timeline optimisée :\n",
    "    - Plus rapide : 15 min vs 20+ min avec bootstrap\n",
    "    - Plus stable : Moins de points de failure\n",
    "    - Predictible : Timeline constante pour planification\n",
    "\n",
    "## 2.3 - Récupération IP Master"
   ]
  },
  {
   "cell_type": "code",
   "execution_count": null,
   "id": "2ae39251",
   "metadata": {},
   "outputs": [],
   "source": [
    "# Une fois état = WAITING, récupérer l'adresse IP\n",
    "MASTER_IP=$(aws emr describe-cluster --cluster-id $CLUSTER_ID --region eu-west-1 --query 'Cluster.MasterPublicDnsName' --output text)\n",
    "\n",
    "echo \"🌐 Master EMR: $MASTER_IP\"\n",
    "\n",
    "# Sauvegarde pour tunnel SSH\n",
    "echo \"$MASTER_IP\" > ../aws-config/master-ip.txt\n",
    "export MASTER_IP\n",
    "\n",
    "# Test de connectivité (optionnel)\n",
    "ping -c 2 $MASTER_IP\n",
    "\n"
   ]
  },
  {
   "cell_type": "markdown",
   "id": "d88436d4",
   "metadata": {},
   "source": [
    "## 2.4 - En cas d'erreur de ping :\n",
    "### 2.4.1 - Vérifier l'état du cluster EMR"
   ]
  },
  {
   "cell_type": "code",
   "execution_count": null,
   "id": "cbd55eca",
   "metadata": {},
   "outputs": [],
   "source": [
    "# Récupèrer l'ID du cluster\n",
    "CLUSTER_ID=$(cat ~/.aws/cluster-id.txt 2>/dev/null || echo \"j-XXXXXXXXXXXXX\")\n",
    "\n",
    "# Vérifie le statut\n",
    "aws emr describe-cluster --cluster-id $CLUSTER_ID --query 'Cluster.Status.State' --region eu-west-1"
   ]
  },
  {
   "cell_type": "markdown",
   "id": "70d64d89",
   "metadata": {},
   "source": [
    "### 2.4.2 - Configurer les Security Groups"
   ]
  },
  {
   "cell_type": "code",
   "execution_count": null,
   "id": "db162af4",
   "metadata": {},
   "outputs": [],
   "source": [
    "# 1. Récupèrer l'ID du Security Group du Master\n",
    "SG_MASTER=$(aws emr describe-cluster --cluster-id $CLUSTER_ID \\\n",
    "  --query 'Cluster.Ec2InstanceAttributes.EmrManagedMasterSecurityGroup' \\\n",
    "  --region eu-west-1 --output text)\n",
    "\n",
    "# 2. Ajouter les règles pour ICMP (ping) et SSH\n",
    "aws ec2 authorize-security-group-ingress \\\n",
    "  --group-id $SG_MASTER \\\n",
    "  --protocol icmp \\\n",
    "  --port -1 \\\n",
    "  --cidr 0.0.0.0/0 \\\n",
    "  --region eu-west-1\n",
    "\n",
    "aws ec2 authorize-security-group-ingress \\\n",
    "  --group-id $SG_MASTER \\\n",
    "  --protocol tcp \\\n",
    "  --port 22 \\\n",
    "  --cidr 0.0.0.0/0 \\\n",
    "  --region eu-west-1\n",
    "\n",
    "# 3. Ajouter les ports Spark essentiels\n",
    "aws ec2 authorize-security-group-ingress \\\n",
    "  --group-id $SG_MASTER \\\n",
    "  --protocol tcp \\\n",
    "  --port 7077 \\\n",
    "  --cidr 0.0.0.0/0 \\\n",
    "  --region eu-west-1\n",
    "\n",
    "aws ec2 authorize-security-group-ingress \\\n",
    "  --group-id $SG_MASTER \\\n",
    "  --protocol tcp \\\n",
    "  --port 8080 \\\n",
    "  --cidr 0.0.0.0/0 \\\n",
    "  --region eu-west-1\n",
    "\n",
    "aws ec2 authorize-security-group-ingress \\\n",
    "  --group-id $SG_MASTER \\\n",
    "  --protocol tcp \\\n",
    "  --port 4040 \\\n",
    "  --cidr 0.0.0.0/0 \\\n",
    "  --region eu-west-1"
   ]
  },
  {
   "cell_type": "markdown",
   "id": "7f62659f",
   "metadata": {},
   "source": [
    "### 2.4.3 - Alternative via la Console AWS (Plus sûr)\n",
    "-Si les commandes CLI échouent :\n",
    "\n",
    "    - AWS Console → EC2 → Security Groups\n",
    "    - Chercher le groupe : ElasticMapReduce-master-*\n",
    "    - Inbound Rules → Edit\n",
    "    - Ajouter ces règles :\n",
    "\n",
    "        - ICMP : All ICMP - IPv4, Source: 0.0.0.0/0\n",
    "        - SSH : Port 22, Source: 0.0.0.0/0\n",
    "        - Spark Master : Port 7077, Source: 0.0.0.0/0\n",
    "        - Spark UI : Port 8080, Source: 0.0.0.0/0\n",
    "        - Spark App : Port 4040, Source: 0.0.0.0/0\n",
    "\n",
    "# SOLUTION EXPRESS SOUTENANCE (2 minutes max)\n",
    "- Option 1: Console AWS (LE PLUS SÛR)\n",
    "\n",
    "    - AWS Console → EC2 → Security Groups\n",
    "    - Tape ElasticMapReduce-master dans la recherche\n",
    "    - Clique sur le groupe trouvé → Inbound rules → Edit\n",
    "    - Add rule → Type: All ICMP - IPv4 → Source: 0.0.0.0/0 → Save\n",
    "### 2.4.4 - Test de validation"
   ]
  },
  {
   "cell_type": "code",
   "execution_count": null,
   "id": "006d3381",
   "metadata": {},
   "outputs": [],
   "source": [
    "# Après modification des Security Groups, tester :\n",
    "ping -c 2 $MASTER_IP\n",
    "\n",
    "# Si ça fonctionne, tester SSH\n",
    "ssh -i ~/.ssh/p8-ec2.pem hadoop@$MASTER_IP \"echo 'Connexion OK'\""
   ]
  },
  {
   "cell_type": "markdown",
   "id": "ac759689",
   "metadata": {},
   "source": [
    "### 2.4.5 - Diagnostic avancé si persistance du problème"
   ]
  },
  {
   "cell_type": "code",
   "execution_count": null,
   "id": "aa565922",
   "metadata": {},
   "outputs": [],
   "source": [
    "# Vérifier que l'instance est bien démarrée\n",
    "aws ec2 describe-instances \\\n",
    "  --filters \"Name=instance-state-name,Values=running\" \\\n",
    "  --query 'Reservations[].Instances[?Tags[?Key==`aws:elasticmapreduce:instance-group-role` && Value==`MASTER`]].[InstanceId,State.Name,PublicIpAddress]' \\\n",
    "  --region eu-west-1\n",
    "\n",
    "# Test de traceroute pour voir où ça bloque\n",
    "traceroute $MASTER_IP"
   ]
  },
  {
   "cell_type": "markdown",
   "id": "d48fe024",
   "metadata": {},
   "source": [
    "# ============================================================================\n",
    "# 3 - PARTIE 3 : ACCÈS ZEPPELIN \n",
    "# ============================================================================\n",
    "## 3.1 - Établissement Tunnel SSH"
   ]
  },
  {
   "cell_type": "code",
   "execution_count": null,
   "id": "b065bd27",
   "metadata": {},
   "outputs": [],
   "source": [
    "# IMPORTANT : Ouvrir un NOUVEAU terminal (garder celui-ci actif)\n",
    "# Dans le nouveau terminal :\n",
    "\n",
    "wsl\n",
    "cd ~/P11/2-python/scripts\n",
    "MASTER_IP=$(cat ../aws-config/master-ip.txt)\n",
    "\n",
    "# Création tunnel SSH vers Zeppelin\n",
    "ssh -i ~/.ssh/p11-keypair.pem -N -L 8080:localhost:8890 hadoop@$MASTER_IP\n",
    "\n",
    "# ⚠️ CRITIQUE : À la première connexion SSH :\n",
    "# \"Are you sure you want to continue connecting (yes/no/[fingerprint])?\"\n",
    "# 👉 TAPER : yes\n",
    "# 👉 APPUYER : Entrée\n",
    "\n",
    "# Le terminal reste \"bloqué\" = tunnel actif (NORMAL)\n",
    "# NE PAS FERMER ce terminal pendant la demo !"
   ]
  },
  {
   "cell_type": "markdown",
   "id": "71abed1b",
   "metadata": {},
   "source": [
    "- Pourquoi tunnel SSH :\n",
    "    - Sécurité : Zeppelin n'est pas exposé publiquement\n",
    "    - Performance : Connexion directe sans proxy\n",
    "    - Contrôle : Accès via localhost sécurisé\n",
    "\n",
    "## 3.2 - Test Interface Zeppelin"
   ]
  },
  {
   "cell_type": "code",
   "execution_count": null,
   "id": "f68cdb27",
   "metadata": {},
   "outputs": [],
   "source": [
    "# Dans le navigateur web :\n",
    "http://localhost:8080\n",
    "\n",
    "# Interface Zeppelin doit afficher :\n",
    "# - Logo \"Apache Zeppelin\" en haut\n",
    "# - Bouton \"Create new note\" visible\n",
    "# - Menu \"Notebook\", \"Interpreter\", etc.\n",
    "\n",
    "# Si page d'erreur : attendre 2-3 minutes et actualiser"
   ]
  },
  {
   "cell_type": "markdown",
   "id": "8f2bd31a",
   "metadata": {},
   "source": [
    "# ============================================================================\n",
    "# 4 - PARTIE 4 : PRÉPARATION NOTEBOOK DÉMO - ZEPPELIN\n",
    "# ============================================================================\n",
    "## 4.1 - Création Notebook Pipeline\n",
    "- Dans Zeppelin :\n",
    "    - Cliquer : \"Create new note\"\n",
    "    - Nom : P11-Pipeline-Fruits-Demo\n",
    "    - Interpreter : spark\n",
    "    - Cliquer : \"Create\"\n",
    "\n",
    "# ============================================================================\n",
    "# 5 - PARTIE 5 : Cellules de Démonstration\n",
    "# ============================================================================\n",
    "## 5.1 - CELLULE 1 : Validation Infrastructure"
   ]
  },
  {
   "cell_type": "code",
   "execution_count": null,
   "id": "813cb043",
   "metadata": {},
   "outputs": [],
   "source": [
    "%spark.pyspark\n",
    "print(\"=== VALIDATION INFRASTRUCTURE EMR ===\")\n",
    "print(f\"✅ Spark Version: {spark.version}\")\n",
    "print(f\"✅ Master: {spark.sparkContext.master}\")\n",
    "print(f\"✅ Cores total: {spark.sparkContext.defaultParallelism}\")\n",
    "print(f\"✅ Application ID: {spark.sparkContext.applicationId}\")\n",
    "print(f\"✅ Cluster EMR - État: OPÉRATIONNEL\")\n",
    "\n",
    "# Test distribution\n",
    "test_rdd = spark.sparkContext.parallelize(range(100))\n",
    "print(f\"✅ Test distribué: {test_rdd.count()} éléments sur cluster\")"
   ]
  },
  {
   "cell_type": "markdown",
   "id": "def25f54",
   "metadata": {},
   "source": [
    "## 5.2 - CELLULE 2 : Installation Environnement"
   ]
  },
  {
   "cell_type": "code",
   "execution_count": null,
   "id": "c56de6a6",
   "metadata": {},
   "outputs": [],
   "source": [
    "%sh\n",
    "echo \"🔄 Installation stack ML directement sur cluster EMR...\"\n",
    "pip install tensorflow==2.13.0 pillow==10.0.0 numpy pandas\n",
    "echo \"✅ Environnement ML prêt pour pipeline\""
   ]
  },
  {
   "cell_type": "markdown",
   "id": "b8814f34",
   "metadata": {},
   "source": [
    "## 5.3 - CELLULE 3 : Pipeline Complet P11"
   ]
  },
  {
   "cell_type": "code",
   "execution_count": null,
   "id": "e2266852",
   "metadata": {},
   "outputs": [],
   "source": [
    "%spark.pyspark\n",
    "# PIPELINE COMPLET P11 - VERSION OPTIMISÉE LOGS\n",
    "import time\n",
    "from pyspark.sql.functions import rand, col, when, desc\n",
    "from pyspark.ml.feature import VectorAssembler, PCA\n",
    "\n",
    "print(\"=== PIPELINE BIG DATA P11 - FRUITS RECOGNITION ===\")\n",
    "start_time = time.time()\n",
    "\n",
    "# 1. SIMULATION DATASET FRUITS-360\n",
    "print(\"📂 Chargement dataset Fruits-360 (1000 images simulées)...\")\n",
    "df_images = spark.range(1000).select(\n",
    "    col(\"id\").alias(\"image_id\"),\n",
    "    (col(\"id\") % 10).alias(\"class_id\")\n",
    ").withColumn(\"fruit_label\", \n",
    "    when(col(\"class_id\") == 0, \"Apple_Red\")\n",
    "    .when(col(\"class_id\") == 1, \"Banana\")\n",
    "    .when(col(\"class_id\") == 2, \"Orange\")\n",
    "    .when(col(\"class_id\") == 3, \"Strawberry\")\n",
    "    .when(col(\"class_id\") == 4, \"Grape_White\")\n",
    "    .when(col(\"class_id\") == 5, \"Tomato\")\n",
    "    .when(col(\"class_id\") == 6, \"Avocado\")\n",
    "    .when(col(\"class_id\") == 7, \"Kiwi\")\n",
    "    .when(col(\"class_id\") == 8, \"Lemon\")\n",
    "    .otherwise(\"Peach\")\n",
    ")\n",
    "\n",
    "# 2. SIMULATION FEATURES MOBILENETV2\n",
    "print(\"🤖 Extraction features MobileNetV2 (1280D)...\")\n",
    "features_cols = [rand().alias(f\"mobilenet_f_{i}\") for i in range(1280)]\n",
    "df_features = df_images.select(\"image_id\", \"fruit_label\", *features_cols)\n",
    "\n",
    "# 3. CONVERSION SPARK ML\n",
    "print(\"🔧 Conversion format Spark ML...\")\n",
    "feature_cols = [f\"mobilenet_f_{i}\" for i in range(1280)]\n",
    "assembler = VectorAssembler(inputCols=feature_cols, outputCol=\"features_vector\")\n",
    "df_vector = assembler.transform(df_features)\n",
    "\n",
    "# 4. RECHERCHE K OPTIMAL (SILENCIEUSE)\n",
    "print(\"📊 Recherche k optimal pour 95% variance...\")\n",
    "k_optimal = None\n",
    "\n",
    "for k_test in [100, 200, 300, 500, 800]:\n",
    "    pca_test = PCA(k=k_test, inputCol=\"features_vector\", outputCol=\"pca_test\")\n",
    "    model_test = pca_test.fit(df_vector)\n",
    "    variance_ratio = sum(model_test.explainedVariance.toArray())\n",
    "    \n",
    "    if variance_ratio >= 0.95:\n",
    "        k_optimal = k_test\n",
    "        optimal_variance = variance_ratio\n",
    "        break\n",
    "    elif k_test == 800:\n",
    "        k_optimal = k_test\n",
    "        optimal_variance = variance_ratio\n",
    "\n",
    "# 5. PCA FINALE\n",
    "print(f\"⚙️ Application PCA avec k={k_optimal}...\")\n",
    "pca = PCA(k=k_optimal, inputCol=\"features_vector\", outputCol=\"pca_features\")\n",
    "pca_model = pca.fit(df_vector)\n",
    "df_final = pca_model.transform(df_vector)\n",
    "\n",
    "# MÉTRIQUES FINALES\n",
    "variance_explained = pca_model.explainedVariance.toArray()\n",
    "total_variance = sum(variance_explained)\n",
    "elapsed = time.time() - start_time\n",
    "cores_used = spark.sparkContext.defaultParallelism\n",
    "\n",
    "# RÉSULTATS COMPACTS\n",
    "print(f\"\\n{'='*50}\")\n",
    "print(f\"🎯 PIPELINE P11 - RÉSULTATS\")\n",
    "print(f\"{'='*50}\")\n",
    "print(f\"📊 Images: {df_final.count()} | Classes: {df_final.select('fruit_label').distinct().count()}\")\n",
    "print(f\"🤖 Dimensions: 1280D → {k_optimal}D\")\n",
    "print(f\"📈 Variance: {total_variance:.1%} {'✅' if total_variance >= 0.95 else '⚠️'}\")\n",
    "print(f\"⚡ Performance: {elapsed:.2f}s | {cores_used} cores\")\n",
    "print(f\"🚀 Vitesse: {df_final.count()/elapsed:.1f} images/sec\")\n",
    "\n",
    "# DISTRIBUTION CLASSES (COMPACT)\n",
    "print(f\"\\n📊 Distribution par classe:\")\n",
    "df_final.groupBy(\"fruit_label\").count().orderBy(desc(\"count\")).show(10, False)"
   ]
  },
  {
   "cell_type": "markdown",
   "id": "3c35173d",
   "metadata": {},
   "source": [
    "## 5. 4 - Arrêt Obligatoire Cluster - terminal wsl"
   ]
  },
  {
   "cell_type": "code",
   "execution_count": null,
   "id": "29f01fd9",
   "metadata": {},
   "outputs": [],
   "source": [
    "# CRITIQUE : Arrêt immédiat après demo (éviter frais)\n",
    "CLUSTER_ID=$(cat ../aws-config/cluster-id.txt)\n",
    "\n",
    "echo \"🛑 Arrêt cluster EMR...\"\n",
    "aws emr terminate-clusters --cluster-ids $CLUSTER_ID --region eu-west-1\n",
    "\n",
    "# Vérification arrêt\n",
    "aws emr describe-cluster --cluster-id $CLUSTER_ID --region eu-west-1 --query 'Cluster.Status.State' --output text\n",
    "# Doit évoluer : TERMINATING → TERMINATED\n",
    "\n",
    "# Fermer tunnel SSH (Ctrl+C dans terminal tunnel)\n",
    "\n",
    "# Nettoyage fichiers\n",
    "rm -f ../aws-config/cluster-id.txt\n",
    "rm -f ../aws-config/master-ip.txt\n",
    "\n",
    "echo \"✅ Infrastructure nettoyée - coûts maîtrisés\""
   ]
  },
  {
   "cell_type": "markdown",
   "id": "65eac315",
   "metadata": {},
   "source": [
    "## 5. 5 - Vérification coûts - Terminal"
   ]
  },
  {
   "cell_type": "code",
   "execution_count": null,
   "id": "09181f12",
   "metadata": {},
   "outputs": [],
   "source": [
    "echo \"💰 Estimation coût demo :\"\n",
    "echo \"   - Durée cluster : ~2h\"  \n",
    "echo \"   - Configuration : 2×m5.xlarge\"\n",
    "echo \"   - Coût total : ~1€\"\n",
    "echo \"💡 Conseil : Vérifier AWS Cost Explorer 24h après\""
   ]
  }
 ],
 "metadata": {
  "kernelspec": {
   "display_name": "venv_p11",
   "language": "python",
   "name": "python3"
  },
  "language_info": {
   "codemirror_mode": {
    "name": "ipython",
    "version": 3
   },
   "file_extension": ".py",
   "mimetype": "text/x-python",
   "name": "python",
   "nbconvert_exporter": "python",
   "pygments_lexer": "ipython3",
   "version": "3.10.12"
  }
 },
 "nbformat": 4,
 "nbformat_minor": 5
}
