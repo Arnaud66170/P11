{
 "cells": [
  {
   "cell_type": "markdown",
   "id": "f6120755",
   "metadata": {},
   "source": [
    "# Notebook : 01_fruits_pipeline_cloud.ipynb - Version corrigée\n",
    "# Pipeline de traitement des images de fruits avec PySpark\n",
    "\n",
    "# ============================================================================\n",
    "# 📋 CELLULE 1 : IMPORTS ET CONFIGURATION\n",
    "# ============================================================================"
   ]
  },
  {
   "cell_type": "code",
   "execution_count": 1,
   "id": "a6da8425",
   "metadata": {},
   "outputs": [
    {
     "name": "stdout",
     "output_type": "stream",
     "text": [
      "[INFO] Mémoire GPU nettoyée avec succès.\n",
      "✅ Imports réalisés avec succès\n"
     ]
    }
   ],
   "source": [
    "import os\n",
    "import sys\n",
    "import warnings\n",
    "\n",
    "# === SUPPRESSION RADICALE DE TOUS LES WARNINGS ===\n",
    "warnings.filterwarnings('ignore')\n",
    "\n",
    "# Configuration AVANT tous les imports\n",
    "os.environ['TF_CPP_MIN_LOG_LEVEL'] = '3'\n",
    "os.environ['PYTHONWARNINGS'] = 'ignore'\n",
    "os.environ['TF_ENABLE_ONEDNN_OPTS'] = '0'\n",
    "os.environ['CUDA_VISIBLE_DEVICES'] = '0'\n",
    "os.environ['TF_FORCE_GPU_ALLOW_GROWTH'] = 'true'\n",
    "os.environ['TF_GPU_THREAD_MODE'] = 'gpu_private'\n",
    "\n",
    "# Redirection temporaire de stderr pour masquer les messages TensorFlow/CUDA\n",
    "original_stderr = sys.stderr\n",
    "if os.name != 'nt':  # Linux/Mac\n",
    "    sys.stderr = open('/dev/null', 'w')\n",
    "else:  # Windows\n",
    "    sys.stderr = open('nul', 'w')\n",
    "\n",
    "try:\n",
    "    from pyspark.sql import SparkSession\n",
    "    from pyspark.sql import functions as F\n",
    "    from pyspark.ml.feature import PCA\n",
    "    import matplotlib.pyplot as plt\n",
    "    import numpy as np\n",
    "    from tensorflow.python.client import device_lib\n",
    "    \n",
    "finally:\n",
    "    # Restauration de stderr après les imports\n",
    "    sys.stderr.close() \n",
    "    sys.stderr = original_stderr\n",
    "\n",
    "# Configuration matplotlib silencieuse\n",
    "plt.rcParams.update({'figure.max_open_warning': 0})\n",
    "import matplotlib\n",
    "matplotlib.use('Agg')  # Mode non-interactif\n",
    "\n",
    "# Préservation de la fonction sum() native Python\n",
    "python_sum = __builtins__['sum'] if isinstance(__builtins__, dict) else __builtins__.sum\n",
    "\n",
    "# Ajout du répertoire src au PYTHONPATH pour les imports\n",
    "sys.path.append('../src')\n",
    "\n",
    "# Imports des modules personnalisés\n",
    "from preprocessing import load_images_from_directory, extract_features_mobilenet\n",
    "from pca_reduction import convert_array_to_vector, get_optimal_pca_k, plot_variance_explained, apply_pca_on_features, plot_variance_curve\n",
    "from utils import export_dataframe_if_needed, setup_project_directories, clean_gpu_cache\n",
    "\n",
    "clean_gpu_cache()\n",
    "\n",
    "print(\"✅ Imports réalisés avec succès\")"
   ]
  },
  {
   "cell_type": "markdown",
   "id": "35e18b53",
   "metadata": {},
   "source": [
    "# ============================================================================\n",
    "# 📋 CELLULE 2 : INITIALISATION SPARK\n",
    "# ============================================================================\n",
    "## 2.1 - Configuration Spark pour minimiser les logs"
   ]
  },
  {
   "cell_type": "code",
   "execution_count": 2,
   "id": "8f64eda0",
   "metadata": {},
   "outputs": [
    {
     "name": "stderr",
     "output_type": "stream",
     "text": [
      "your 131072x1 screen size is bogus. expect trouble\n",
      "25/07/24 17:19:35 WARN Utils: Your hostname, PC-ARNAUD resolves to a loopback address: 127.0.1.1; using 10.255.255.254 instead (on interface lo)\n",
      "25/07/24 17:19:35 WARN Utils: Set SPARK_LOCAL_IP if you need to bind to another address\n",
      "Setting default log level to \"WARN\".\n",
      "To adjust logging level use sc.setLogLevel(newLevel). For SparkR, use setLogLevel(newLevel).\n",
      "25/07/24 17:19:36 WARN NativeCodeLoader: Unable to load native-hadoop library for your platform... using builtin-java classes where applicable\n"
     ]
    }
   ],
   "source": [
    "spark = SparkSession.builder \\\n",
    "    .appName(\"FruitsPipelineCloud\") \\\n",
    "    .config(\"spark.sql.adaptive.enabled\", \"true\") \\\n",
    "    .config(\"spark.sql.adaptive.coalescePartitions.enabled\", \"true\") \\\n",
    "    .config(\"spark.serializer\", \"org.apache.spark.serializer.KryoSerializer\") \\\n",
    "    .config(\"spark.sql.execution.arrow.pyspark.enabled\", \"true\") \\\n",
    "    .config(\"spark.sql.adaptive.advisoryPartitionSizeInBytes\", \"128MB\") \\\n",
    "    .getOrCreate()"
   ]
  },
  {
   "cell_type": "markdown",
   "id": "e9c03a86",
   "metadata": {},
   "source": [
    "## 2.2 - Configuration des logs pour réduire la verbosité au minimum"
   ]
  },
  {
   "cell_type": "code",
   "execution_count": 3,
   "id": "7de78e54",
   "metadata": {},
   "outputs": [
    {
     "name": "stdout",
     "output_type": "stream",
     "text": [
      "🚀 Session Spark créée : 3.4.1\n",
      "📊 Nombre de cœurs disponibles : 16\n"
     ]
    }
   ],
   "source": [
    "spark.sparkContext.setLogLevel(\"ERROR\")\n",
    "\n",
    "print(f\"🚀 Session Spark créée : {spark.version}\")\n",
    "print(f\"📊 Nombre de cœurs disponibles : {spark.sparkContext.defaultParallelism}\")"
   ]
  },
  {
   "cell_type": "markdown",
   "id": "30f8cd97",
   "metadata": {},
   "source": [
    "# ============================================================================\n",
    "# 📋 CELLULE 3 : CONFIGURATION DES CHEMINS ET RÉPERTOIRES\n",
    "# ============================================================================\n",
    "\n",
    "## 3.1 - Configuration des chemins de travail"
   ]
  },
  {
   "cell_type": "code",
   "execution_count": 4,
   "id": "158776a4",
   "metadata": {},
   "outputs": [],
   "source": [
    "DATA_PATH = \"../data/fruits-360/Test\"\n",
    "OUTPUTS_PATH = \"../outputs\"\n",
    "CACHE_PATH = \"../outputs/cache\""
   ]
  },
  {
   "cell_type": "markdown",
   "id": "633d9f56",
   "metadata": {},
   "source": [
    "## 3.2 - Création automatique de l'arborescence du projet"
   ]
  },
  {
   "cell_type": "code",
   "execution_count": 5,
   "id": "ac8bb54b",
   "metadata": {},
   "outputs": [
    {
     "name": "stdout",
     "output_type": "stream",
     "text": [
      "📁 Tous les répertoires existent déjà\n",
      "📁 Chemin des données : ../data/fruits-360/Test\n",
      "📁 Chemin de sortie : ../outputs\n"
     ]
    }
   ],
   "source": [
    "directories = setup_project_directories(base_path=\"../\")\n",
    "\n",
    "print(f\"📁 Chemin des données : {DATA_PATH}\")\n",
    "print(f\"📁 Chemin de sortie : {OUTPUTS_PATH}\")"
   ]
  },
  {
   "cell_type": "markdown",
   "id": "3a372280",
   "metadata": {},
   "source": [
    "## 3.3 - Vérification de l'existence des données"
   ]
  },
  {
   "cell_type": "code",
   "execution_count": 6,
   "id": "f8693ae7",
   "metadata": {},
   "outputs": [
    {
     "name": "stdout",
     "output_type": "stream",
     "text": [
      "📸 Nombre total d'images détectées : 22688\n"
     ]
    }
   ],
   "source": [
    "if not os.path.exists(DATA_PATH):\n",
    "    print(f\"❌ ERREUR : Le répertoire {DATA_PATH} n'existe pas !\")\n",
    "    print(\"💡 Assure-toi d'avoir téléchargé et extrait le dataset Fruits-360\")\n",
    "else:\n",
    "    # Utilisation de la fonction sum() native Python (préservée en cellule 1)\n",
    "    total_images = python_sum([len(files) for r, d, files in os.walk(DATA_PATH) if files])\n",
    "    print(f\"📸 Nombre total d'images détectées : {total_images}\")"
   ]
  },
  {
   "cell_type": "markdown",
   "id": "a33da51a",
   "metadata": {},
   "source": [
    "# ============================================================================\n",
    "# 📋 CELLULE 4 : CHARGEMENT DES DONNÉES\n",
    "# ============================================================================"
   ]
  },
  {
   "cell_type": "code",
   "execution_count": 7,
   "id": "b4a2c6b3",
   "metadata": {},
   "outputs": [
    {
     "name": "stdout",
     "output_type": "stream",
     "text": [
      "🔄 Étape 1/5 : Chargement des images depuis le répertoire...\n"
     ]
    }
   ],
   "source": [
    "print(\"🔄 Étape 1/5 : Chargement des images depuis le répertoire...\")"
   ]
  },
  {
   "cell_type": "markdown",
   "id": "80e990ef",
   "metadata": {},
   "source": [
    "## 4.1 - Chargement des chemins d'images et labels via la fonction externalisée"
   ]
  },
  {
   "cell_type": "code",
   "execution_count": 8,
   "id": "e7766365",
   "metadata": {},
   "outputs": [
    {
     "name": "stdout",
     "output_type": "stream",
     "text": [
      "✅ Chargement depuis le cache : ../outputs/cache/images_paths.parquet\n"
     ]
    },
    {
     "name": "stderr",
     "output_type": "stream",
     "text": [
      "                                                                                \r"
     ]
    },
    {
     "name": "stdout",
     "output_type": "stream",
     "text": [
      "✅ Chargement terminé\n",
      "📊 Aperçu des données :\n",
      "+---------------------------------------------------+-------------+\n",
      "|path                                               |label        |\n",
      "+---------------------------------------------------+-------------+\n",
      "|../data/fruits-360/Test/Grape White 3/169_100.jpg  |Grape White 3|\n",
      "|../data/fruits-360/Test/Grape White 3/132_100.jpg  |Grape White 3|\n",
      "|../data/fruits-360/Test/Grape White 3/r_153_100.jpg|Grape White 3|\n",
      "|../data/fruits-360/Test/Grape White 3/147_100.jpg  |Grape White 3|\n",
      "|../data/fruits-360/Test/Strawberry/r_52_100.jpg    |Strawberry   |\n",
      "+---------------------------------------------------+-------------+\n",
      "only showing top 5 rows\n",
      "\n",
      "📈 Nombre total d'images chargées : 500\n"
     ]
    }
   ],
   "source": [
    "df_images = load_images_from_directory(\n",
    "    spark=spark, \n",
    "    data_path=DATA_PATH,\n",
    "    sample_size=500,  # Limitation pour les tests - à augmenter en production\n",
    "    cache_path=f\"{CACHE_PATH}/images_paths.parquet\",\n",
    "    force_retrain=False\n",
    ")\n",
    "\n",
    "print(\"✅ Chargement terminé\")\n",
    "print(\"📊 Aperçu des données :\")\n",
    "df_images.show(5, truncate=False)\n",
    "print(f\"📈 Nombre total d'images chargées : {df_images.count()}\")"
   ]
  },
  {
   "cell_type": "markdown",
   "id": "dd0acbff",
   "metadata": {},
   "source": [
    "# ============================================================================\n",
    "# 📋 CELLULE 5 : EXTRACTION DES FEATURES AVEC MOBILENETV2\n",
    "# ============================================================================"
   ]
  },
  {
   "cell_type": "code",
   "execution_count": 9,
   "id": "1237a507",
   "metadata": {},
   "outputs": [
    {
     "name": "stdout",
     "output_type": "stream",
     "text": [
      "\n",
      "🔄 Étape 2/5 : Extraction des features avec MobileNetV2...\n",
      "⚠️  Cette étape peut prendre plusieurs minutes selon le nombre d'images\n"
     ]
    }
   ],
   "source": [
    "print(\"\\n🔄 Étape 2/5 : Extraction des features avec MobileNetV2...\")\n",
    "print(\"⚠️  Cette étape peut prendre plusieurs minutes selon le nombre d'images\")"
   ]
  },
  {
   "cell_type": "markdown",
   "id": "0953940d",
   "metadata": {},
   "source": [
    "## 5.1 - Extraction des caractéristiques via transfert learning - fonction externalisée"
   ]
  },
  {
   "cell_type": "code",
   "execution_count": 10,
   "id": "2cbd3972",
   "metadata": {},
   "outputs": [
    {
     "name": "stdout",
     "output_type": "stream",
     "text": [
      "✅ Chargement depuis le cache : ../outputs/cache/features_mobilenet_gpu.parquet\n",
      "✅ Extraction des features terminée\n",
      "📊 Vérification des dimensions des features :\n",
      "[name: \"/device:CPU:0\"\n",
      "device_type: \"CPU\"\n",
      "memory_limit: 268435456\n",
      "locality {\n",
      "}\n",
      "incarnation: 8506407642985989002\n",
      "xla_global_id: -1\n",
      ", name: \"/device:GPU:0\"\n",
      "device_type: \"GPU\"\n",
      "memory_limit: 4807720960\n",
      "locality {\n",
      "  bus_id: 1\n",
      "  links {\n",
      "  }\n",
      "}\n",
      "incarnation: 16688862185808198896\n",
      "physical_device_desc: \"device: 0, name: NVIDIA GeForce GTX 1060 6GB, pci bus id: 0000:06:00.0, compute capability: 6.1\"\n",
      "xla_global_id: 416903419\n",
      "]\n"
     ]
    }
   ],
   "source": [
    "df_features = extract_features_mobilenet(\n",
    "    spark = spark,\n",
    "    df = df_images,\n",
    "    cache_path = f\"{CACHE_PATH}/features_mobilenet_gpu.parquet\",\n",
    "    force_retrain = False,\n",
    "    batch_size = 32  # Optimisé pour GTX 1060 6GB\n",
    ")\n",
    "\n",
    "print(\"✅ Extraction des features terminée\")\n",
    "print(\"📊 Vérification des dimensions des features :\")\n",
    "print(device_lib.list_local_devices())"
   ]
  },
  {
   "cell_type": "markdown",
   "id": "520b3535",
   "metadata": {},
   "source": [
    "## 5.2 - Inspection d'un échantillon de features"
   ]
  },
  {
   "cell_type": "code",
   "execution_count": 11,
   "id": "4ee70320",
   "metadata": {},
   "outputs": [
    {
     "name": "stdout",
     "output_type": "stream",
     "text": [
      "🎯 Dimension des vecteurs de caractéristiques : 1280\n",
      "🎯 Type des données : <class 'list'>\n",
      "🎯 Exemple de valeurs : [0.690702497959137, 0.9102954268455505, 0.0, 0.0, 0.08946313709020615, 0.0, 0.3325121998786926, 0.7319117188453674, 0.1733175814151764, 0.023059630766510963]...\n"
     ]
    }
   ],
   "source": [
    "sample_features = df_features.select(\"features\").first()[\"features\"]\n",
    "print(f\"🎯 Dimension des vecteurs de caractéristiques : {len(sample_features)}\")\n",
    "print(f\"🎯 Type des données : {type(sample_features)}\")\n",
    "print(f\"🎯 Exemple de valeurs : {sample_features[:10]}...\")"
   ]
  },
  {
   "cell_type": "markdown",
   "id": "f4c66612",
   "metadata": {},
   "source": [
    "# ============================================================================\n",
    "# 📋 CELLULE 6 : CONVERSION AU FORMAT SPARK ML\n",
    "# ============================================================================"
   ]
  },
  {
   "cell_type": "code",
   "execution_count": 12,
   "id": "817a1e16",
   "metadata": {},
   "outputs": [
    {
     "name": "stdout",
     "output_type": "stream",
     "text": [
      "\n",
      "🔄 Étape 3/5 : Conversion des données au format Spark ML...\n"
     ]
    }
   ],
   "source": [
    "print(\"\\n🔄 Étape 3/5 : Conversion des données au format Spark ML...\")"
   ]
  },
  {
   "cell_type": "markdown",
   "id": "80371000",
   "metadata": {},
   "source": [
    "### Conversion nécessaire pour PCA via fonction externalisée\n",
    "## 6.1 - MobileNetV2 retourne des arrays Python, mais PCA Spark attend des VectorUDT"
   ]
  },
  {
   "cell_type": "code",
   "execution_count": 13,
   "id": "e417bb90",
   "metadata": {},
   "outputs": [
    {
     "name": "stdout",
     "output_type": "stream",
     "text": [
      "🔄 Conversion des arrays Python vers des vecteurs Spark ML...\n",
      "✅ Conversion terminée - les features sont maintenant au format VectorUDT\n",
      "✅ Conversion terminée\n"
     ]
    }
   ],
   "source": [
    "df_features_converted = convert_array_to_vector(df_features, features_col = \"features\")\n",
    "\n",
    "print(\"✅ Conversion terminée\")"
   ]
  },
  {
   "cell_type": "markdown",
   "id": "aa30b7b4",
   "metadata": {},
   "source": [
    "## 6.2 - Vérification du nouveau format"
   ]
  },
  {
   "cell_type": "code",
   "execution_count": 14,
   "id": "d9654ee1",
   "metadata": {},
   "outputs": [
    {
     "name": "stdout",
     "output_type": "stream",
     "text": [
      "📊 Vérification du schéma après conversion :\n",
      "root\n",
      " |-- path: string (nullable = true)\n",
      " |-- label: string (nullable = true)\n",
      " |-- features: vector (nullable = true)\n",
      "\n"
     ]
    }
   ],
   "source": [
    "print(\"📊 Vérification du schéma après conversion :\")\n",
    "df_features_converted.printSchema()"
   ]
  },
  {
   "cell_type": "markdown",
   "id": "7a13965a",
   "metadata": {},
   "source": [
    "# ============================================================================\n",
    "# 📋 CELLULE 7 : CALCUL DE LA VARIANCE CUMULÉE POUR DÉTERMINER K OPTIMAL\n",
    "# ============================================================================"
   ]
  },
  {
   "cell_type": "code",
   "execution_count": 15,
   "id": "45d79984",
   "metadata": {},
   "outputs": [
    {
     "name": "stdout",
     "output_type": "stream",
     "text": [
      "\n",
      "🔄 Étape 4/5 : Analyse de la variance pour déterminer le nombre optimal de composantes...\n",
      "📊 Recherche du nombre de composantes pour 95% de variance expliquée\n"
     ]
    }
   ],
   "source": [
    "print(\"\\n🔄 Étape 4/5 : Analyse de la variance pour déterminer le nombre optimal de composantes...\")\n",
    "print(\"📊 Recherche du nombre de composantes pour 95% de variance expliquée\")"
   ]
  },
  {
   "cell_type": "markdown",
   "id": "9e6e6133",
   "metadata": {},
   "source": [
    "## 7.1 - Appel de la fonction externalisée pour calculer k optimal\n",
    "- max_k augmenté à 200 pour MobileNetV2 (1280 features)"
   ]
  },
  {
   "cell_type": "code",
   "execution_count": 16,
   "id": "6b147c29",
   "metadata": {},
   "outputs": [
    {
     "name": "stdout",
     "output_type": "stream",
     "text": [
      "✅ Cache de variance chargé depuis ../outputs/cache/pca_variance_analysis.parquet\n",
      "\n",
      "🧪 Aperçu des résultats :\n",
      "+---+--------------------+--------------------+\n",
      "|k  |individual_variance |cum_variance        |\n",
      "+---+--------------------+--------------------+\n",
      "|1  |0.2655833735146533  |0.2655833735146533  |\n",
      "|2  |0.20852696638906548 |0.4741103399037188  |\n",
      "|3  |0.11059546457472673 |0.5847058044784457  |\n",
      "|4  |0.01242247940609405 |0.053790039499492494|\n",
      "|5  |0.031028624082689037|0.6948871523099389  |\n",
      "|6  |0.02876907008832725 |0.7236562223982663  |\n",
      "|7  |0.02184833911639816 |0.7455045615146643  |\n",
      "|8  |0.016204624921230506|0.7617091864358949  |\n",
      "|9  |0.013424473540920011|0.7751336599768149  |\n",
      "|10 |0.011709280162410884|0.7868429401392261  |\n",
      "|11 |0.010219268569100324|0.7970622087083259  |\n",
      "|12 |0.00919384975557515 |0.8062560584639012  |\n",
      "|13 |0.010533789831949896|0.1552042951903053  |\n",
      "|14 |0.008077442165124614|0.8232170192551493  |\n",
      "|15 |0.007609229970823866|0.8308262492259728  |\n",
      "|16 |0.006763631481942091|0.837589880707915   |\n",
      "|17 |0.005798381713562773|0.8433882624214777  |\n",
      "|18 |0.005431797857661814|0.8488200602791395  |\n",
      "|19 |0.005095689712165074|0.8539157499913046  |\n",
      "|20 |0.004520963013464106|0.8584367130047686  |\n",
      "+---+--------------------+--------------------+\n",
      "only showing top 20 rows\n",
      "\n",
      "✅ 56 composantes nécessaires pour expliquer au moins 95.0% de la variance.\n",
      "📊 Variance exacte atteinte avec k=56 : 0.9800 (98.00%)\n",
      "\n",
      "🎯 RÉSULTAT : k_optimal = 56 composantes\n",
      "[name: \"/device:CPU:0\"\n",
      "device_type: \"CPU\"\n",
      "memory_limit: 268435456\n",
      "locality {\n",
      "}\n",
      "incarnation: 8869897325024319844\n",
      "xla_global_id: -1\n",
      ", name: \"/device:GPU:0\"\n",
      "device_type: \"GPU\"\n",
      "memory_limit: 4807720960\n",
      "locality {\n",
      "  bus_id: 1\n",
      "  links {\n",
      "  }\n",
      "}\n",
      "incarnation: 7058644814878622189\n",
      "physical_device_desc: \"device: 0, name: NVIDIA GeForce GTX 1060 6GB, pci bus id: 0000:06:00.0, compute capability: 6.1\"\n",
      "xla_global_id: 416903419\n",
      "]\n"
     ]
    }
   ],
   "source": [
    "k_optimal, variance_data = get_optimal_pca_k(\n",
    "    df=df_features_converted,\n",
    "    spark=spark,\n",
    "    max_k=200,\n",
    "    threshold=0.95,\n",
    "    force_retrain=False,\n",
    "    cache_path=f\"{CACHE_PATH}/pca_variance_analysis.parquet\"\n",
    ")\n",
    "\n",
    "print(f\"\\n🎯 RÉSULTAT : k_optimal = {k_optimal} composantes\")\n",
    "print(device_lib.list_local_devices())"
   ]
  },
  {
   "cell_type": "code",
   "execution_count": 17,
   "id": "329e08f9",
   "metadata": {},
   "outputs": [
    {
     "name": "stdout",
     "output_type": "stream",
     "text": [
      "📈 Graphique sauvegardé dans outputs/pca_variance_plot.png\n"
     ]
    }
   ],
   "source": [
    "# Données (assure-toi que variance_data est bien défini)\n",
    "ks = [row[0] for row in variance_data]\n",
    "cum_vars = [row[2] for row in variance_data]\n",
    "\n",
    "# Tracé\n",
    "plt.figure(figsize=(10, 6))\n",
    "plt.plot(ks, cum_vars, marker='o', linestyle='-', color='blue')\n",
    "plt.axhline(y=0.95, color='red', linestyle='--', label='Seuil 95%')\n",
    "plt.axvline(x=k_optimal, color='green', linestyle='--', label=f'k optimal = {k_optimal}')\n",
    "plt.title(\"Variance cumulée en fonction de k (PCA)\")\n",
    "plt.xlabel(\"Nombre de composantes principales (k)\")\n",
    "plt.ylabel(\"Variance cumulée\")\n",
    "plt.grid(True)\n",
    "plt.legend()\n",
    "plt.tight_layout()\n",
    "\n",
    "# Sauvegarde (à la place de plt.show())\n",
    "plt.savefig(\"../outputs/pca_variance_plot.png\")\n",
    "print(\"📈 Graphique sauvegardé dans outputs/pca_variance_plot.png\")"
   ]
  },
  {
   "cell_type": "code",
   "execution_count": 18,
   "id": "fa31e319",
   "metadata": {},
   "outputs": [],
   "source": [
    "plot_variance_curve(variance_data, k_optimal, save_path=f\"{OUTPUTS_PATH}/pca_variance_final.png\")"
   ]
  },
  {
   "cell_type": "markdown",
   "id": "b29bb97a",
   "metadata": {},
   "source": [
    "# ============================================================================\n",
    "# 📋 CELLULE 8 : GÉNÉRATION DU GRAPHIQUE EMPIRIQUE DE VARIANCE EXPLIQUÉE\n",
    "# ============================================================================"
   ]
  },
  {
   "cell_type": "code",
   "execution_count": 19,
   "id": "0bca6acc",
   "metadata": {},
   "outputs": [
    {
     "name": "stdout",
     "output_type": "stream",
     "text": [
      "\n",
      "📈 Génération du graphique de variance expliquée...\n"
     ]
    }
   ],
   "source": [
    "print(\"\\n📈 Génération du graphique de variance expliquée...\")"
   ]
  },
  {
   "cell_type": "markdown",
   "id": "89aa542a",
   "metadata": {},
   "source": [
    "## 8.1 - Création du graphique empirique via fonction externalisée"
   ]
  },
  {
   "cell_type": "code",
   "execution_count": 20,
   "id": "75d4d52d",
   "metadata": {},
   "outputs": [
    {
     "name": "stdout",
     "output_type": "stream",
     "text": [
      "📈 Génération du graphique de variance expliquée...\n",
      "💾 Graphique sauvegardé : ../outputs/pca_variance_analysis.png\n",
      "✅ Graphique généré et sauvegardé\n"
     ]
    }
   ],
   "source": [
    "plot_variance_explained(\n",
    "    variance_data=variance_data,\n",
    "    threshold=0.95,\n",
    "    save_path=f\"{OUTPUTS_PATH}/pca_variance_analysis.png\"\n",
    ")\n",
    "\n",
    "print(\"✅ Graphique généré et sauvegardé\")"
   ]
  },
  {
   "cell_type": "markdown",
   "id": "371c092a",
   "metadata": {},
   "source": [
    "# ============================================================================\n",
    "# 📋 CELLULE 9 : APPLICATION DE L'ACP AVEC K OPTIMAL\n",
    "# ============================================================================"
   ]
  },
  {
   "cell_type": "code",
   "execution_count": 21,
   "id": "a787f7f9",
   "metadata": {},
   "outputs": [
    {
     "name": "stdout",
     "output_type": "stream",
     "text": [
      "\n",
      "🔄 Étape 5/5 : Application de l'ACP avec k=56 composantes...\n"
     ]
    }
   ],
   "source": [
    "print(f\"\\n🔄 Étape 5/5 : Application de l'ACP avec k={k_optimal} composantes...\")"
   ]
  },
  {
   "cell_type": "markdown",
   "id": "811bae54",
   "metadata": {},
   "source": [
    "## 9.1 - Application de la réduction PCA avec le k optimal déterminé via fonction externalisée"
   ]
  },
  {
   "cell_type": "code",
   "execution_count": 22,
   "id": "3979572b",
   "metadata": {},
   "outputs": [
    {
     "name": "stdout",
     "output_type": "stream",
     "text": [
      "✔ Chargement des données PCA depuis le cache : ../outputs/features_pca_optimal.parquet\n",
      "✅ ACP appliquée avec succès\n",
      "[name: \"/device:CPU:0\"\n",
      "device_type: \"CPU\"\n",
      "memory_limit: 268435456\n",
      "locality {\n",
      "}\n",
      "incarnation: 9854933878986181916\n",
      "xla_global_id: -1\n",
      ", name: \"/device:GPU:0\"\n",
      "device_type: \"GPU\"\n",
      "memory_limit: 4807720960\n",
      "locality {\n",
      "  bus_id: 1\n",
      "  links {\n",
      "  }\n",
      "}\n",
      "incarnation: 5688865627447631963\n",
      "physical_device_desc: \"device: 0, name: NVIDIA GeForce GTX 1060 6GB, pci bus id: 0000:06:00.0, compute capability: 6.1\"\n",
      "xla_global_id: 416903419\n",
      "]\n"
     ]
    }
   ],
   "source": [
    "df_pca_optimal = apply_pca_on_features(\n",
    "    spark=spark,\n",
    "    df=df_features_converted,\n",
    "    k=k_optimal,\n",
    "    features_col=\"features\",\n",
    "    output_path=f\"{OUTPUTS_PATH}/features_pca_optimal.parquet\",\n",
    "    force_retrain=False\n",
    ")\n",
    "\n",
    "print(\"✅ ACP appliquée avec succès\")\n",
    "print(device_lib.list_local_devices())"
   ]
  },
  {
   "cell_type": "markdown",
   "id": "9d1a16e4",
   "metadata": {},
   "source": [
    "## 9.2 - Vérification des résultats"
   ]
  },
  {
   "cell_type": "code",
   "execution_count": 23,
   "id": "82185383",
   "metadata": {},
   "outputs": [
    {
     "name": "stdout",
     "output_type": "stream",
     "text": [
      "📊 Vérification des données après ACP :\n",
      "root\n",
      " |-- path: string (nullable = true)\n",
      " |-- label: string (nullable = true)\n",
      " |-- features: vector (nullable = true)\n",
      " |-- features_pca: vector (nullable = true)\n",
      "\n"
     ]
    }
   ],
   "source": [
    "print(\"📊 Vérification des données après ACP :\")\n",
    "df_pca_optimal.printSchema()"
   ]
  },
  {
   "cell_type": "markdown",
   "id": "e6ca1217",
   "metadata": {},
   "source": [
    "## 9.3 - Inspection des dimensions réduites"
   ]
  },
  {
   "cell_type": "code",
   "execution_count": 24,
   "id": "6e966562",
   "metadata": {},
   "outputs": [
    {
     "name": "stdout",
     "output_type": "stream",
     "text": [
      "🎯 Dimensions après réduction : 56\n",
      "🎯 Facteur de réduction : 22.9x\n"
     ]
    }
   ],
   "source": [
    "sample_pca = df_pca_optimal.select(\"features_pca\").first()[\"features_pca\"]\n",
    "print(f\"🎯 Dimensions après réduction : {sample_pca.size}\")\n",
    "print(f\"🎯 Facteur de réduction : {1280 / sample_pca.size:.1f}x\")"
   ]
  },
  {
   "cell_type": "markdown",
   "id": "b45a7f1d",
   "metadata": {},
   "source": [
    "# ============================================================================\n",
    "# 📋 CELLULE 10 : SAUVEGARDE ET VALIDATION FINALE\n",
    "# ============================================================================"
   ]
  },
  {
   "cell_type": "code",
   "execution_count": 25,
   "id": "2620a7a3",
   "metadata": {},
   "outputs": [
    {
     "name": "stdout",
     "output_type": "stream",
     "text": [
      "\n",
      "💾 Sauvegarde des résultats finaux...\n"
     ]
    }
   ],
   "source": [
    "print(\"\\n💾 Sauvegarde des résultats finaux...\")"
   ]
  },
  {
   "cell_type": "markdown",
   "id": "f5499521",
   "metadata": {},
   "source": [
    "## 10.1 - Sélection des colonnes finales pour la sauvegarde"
   ]
  },
  {
   "cell_type": "code",
   "execution_count": 26,
   "id": "4cb804f9",
   "metadata": {},
   "outputs": [],
   "source": [
    "df_final = df_pca_optimal.select(\"path\", \"label\", \"features_pca\")"
   ]
  },
  {
   "cell_type": "markdown",
   "id": "1383e54a",
   "metadata": {},
   "source": [
    "## 10.2 - Sauvegarde au format Parquet (optimal pour Spark)"
   ]
  },
  {
   "cell_type": "code",
   "execution_count": 27,
   "id": "0d316ff2",
   "metadata": {},
   "outputs": [],
   "source": [
    "final_parquet_path = f\"{OUTPUTS_PATH}/final_results.parquet\"\n",
    "df_final.write.mode(\"overwrite\").parquet(final_parquet_path)"
   ]
  },
  {
   "cell_type": "markdown",
   "id": "bcb1b2e5",
   "metadata": {},
   "source": [
    "## 10.3 - Sauvegarde au format CSV pour compatibilité"
   ]
  },
  {
   "cell_type": "code",
   "execution_count": 28,
   "id": "54628f46",
   "metadata": {},
   "outputs": [
    {
     "name": "stdout",
     "output_type": "stream",
     "text": [
      "✅ Résultats sauvegardés :\n",
      "   - Format Parquet : ../outputs/final_results.parquet\n",
      "   - Format CSV : ../outputs/final_results.csv\n"
     ]
    }
   ],
   "source": [
    "# Drop des colonnes non compatibles avec CSV\n",
    "df_export = df_final.drop(\"features_pca\")\n",
    "\n",
    "# Sauvegarde CSV propre\n",
    "final_csv_path = f\"{OUTPUTS_PATH}/final_results.csv\"\n",
    "df_export.coalesce(1).write.mode(\"overwrite\").option(\"header\", \"true\").csv(final_csv_path)\n",
    "\n",
    "print(f\"✅ Résultats sauvegardés :\")\n",
    "print(f\"   - Format Parquet : {final_parquet_path}\")\n",
    "print(f\"   - Format CSV : {final_csv_path}\")"
   ]
  },
  {
   "cell_type": "markdown",
   "id": "c7bea4d0",
   "metadata": {},
   "source": [
    "# ============================================================================\n",
    "# 📋 CELLULE 11 : RÉSUMÉ ET STATISTIQUES FINALES\n",
    "# ============================================================================"
   ]
  },
  {
   "cell_type": "code",
   "execution_count": 29,
   "id": "db6d8280",
   "metadata": {},
   "outputs": [
    {
     "name": "stdout",
     "output_type": "stream",
     "text": [
      "\n",
      "============================================================\n",
      "📊 RÉSUMÉ DU PIPELINE DE TRAITEMENT\n",
      "============================================================\n",
      "🗂️  Nombre d'images traitées : 500\n",
      "🏷️  Nombre de classes détectées : 4\n",
      "📐 Dimensions originales (MobileNetV2) : 1280\n",
      "📐 Dimensions après ACP : 56\n",
      "📊 Variance expliquée : 95%+\n"
     ]
    }
   ],
   "source": [
    "print(\"\\n\" + \"=\"*60)\n",
    "print(\"📊 RÉSUMÉ DU PIPELINE DE TRAITEMENT\")\n",
    "print(\"=\"*60)\n",
    "\n",
    "print(f\"🗂️  Nombre d'images traitées : {df_final.count()}\")\n",
    "print(f\"🏷️  Nombre de classes détectées : {df_final.select('label').distinct().count()}\")\n",
    "print(f\"📐 Dimensions originales (MobileNetV2) : 1280\")\n",
    "print(f\"📐 Dimensions après ACP : {k_optimal}\")\n",
    "print(f\"📊 Variance expliquée : 95%+\")"
   ]
  },
  {
   "cell_type": "markdown",
   "id": "508e87a1",
   "metadata": {},
   "source": [
    "## 11.1 - Calcul de la taille du fichier final"
   ]
  },
  {
   "cell_type": "code",
   "execution_count": 30,
   "id": "e8bf8a71",
   "metadata": {},
   "outputs": [
    {
     "name": "stdout",
     "output_type": "stream",
     "text": [
      "💾 Taille du fichier final : 0.3 MB (Parquet)\n",
      "\n",
      "✅ PIPELINE TERMINÉ AVEC SUCCÈS !\n",
      "💡 Les données sont prêtes pour le déploiement cloud ou l'entraînement de modèles\n"
     ]
    }
   ],
   "source": [
    "if os.path.exists(final_parquet_path):\n",
    "    file_size_mb = sum([os.path.getsize(os.path.join(final_parquet_path, f)) \n",
    "                       for f in os.listdir(final_parquet_path) \n",
    "                       if os.path.isfile(os.path.join(final_parquet_path, f))]) / (1024*1024)\n",
    "    print(f\"💾 Taille du fichier final : {file_size_mb:.1f} MB (Parquet)\")\n",
    "\n",
    "print(\"\\n✅ PIPELINE TERMINÉ AVEC SUCCÈS !\")\n",
    "print(\"💡 Les données sont prêtes pour le déploiement cloud ou l'entraînement de modèles\")"
   ]
  },
  {
   "cell_type": "markdown",
   "id": "22644d24",
   "metadata": {},
   "source": [
    "## 11.2 - Arrêt propre de la session Spark"
   ]
  },
  {
   "cell_type": "code",
   "execution_count": 31,
   "id": "090dd745",
   "metadata": {},
   "outputs": [],
   "source": [
    "# spark.stop()\n",
    "# print(\"🔴 Session Spark fermée\")"
   ]
  },
  {
   "cell_type": "code",
   "execution_count": null,
   "id": "a304e2b9",
   "metadata": {},
   "outputs": [],
   "source": []
  }
 ],
 "metadata": {
  "kernelspec": {
   "display_name": "Python (venv_p11)",
   "language": "python",
   "name": "venv_p11"
  },
  "language_info": {
   "codemirror_mode": {
    "name": "ipython",
    "version": 3
   },
   "file_extension": ".py",
   "mimetype": "text/x-python",
   "name": "python",
   "nbconvert_exporter": "python",
   "pygments_lexer": "ipython3",
   "version": "3.10.12"
  }
 },
 "nbformat": 4,
 "nbformat_minor": 5
}
