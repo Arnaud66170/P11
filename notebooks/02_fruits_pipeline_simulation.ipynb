{
 "cells": [
  {
   "cell_type": "markdown",
   "id": "f6120755",
   "metadata": {},
   "source": [
    "# Notebook : 02_fruits_pipeline_simulation.ipynb - VERSION SIMULATION S3\n",
    "\n",
    "# ============================================================================\n",
    "# 📋 CELLULE 1 : IMPORTS ET CONFIGURATION\n",
    "# ============================================================================"
   ]
  },
  {
   "cell_type": "code",
   "execution_count": 1,
   "id": "a6da8425",
   "metadata": {},
   "outputs": [
    {
     "name": "stdout",
     "output_type": "stream",
     "text": [
      "[INFO] Mémoire GPU nettoyée avec succès.\n",
      "✅ Imports réalisés avec succès\n",
      "\n",
      "🔍 Détection automatique du hardware...\n",
      "🚀 GPU détecté: /physical_device:GPU:0\n",
      "💾 RAM détectée: 31.3 GB\n",
      "🎯 Configuration recommandée : 6g/4g\n",
      "✅ boto3 OK\n",
      "✅ awslocal CLI OK\n",
      "✅ localstack module OK\n",
      "✅ Module EMR Simulation optimisé importé et testé\n"
     ]
    }
   ],
   "source": [
    "import os\n",
    "import sys\n",
    "import warnings\n",
    "\n",
    "# === SUPPRESSION RADICALE DE TOUS LES WARNINGS ===\n",
    "warnings.filterwarnings('ignore')\n",
    "\n",
    "# Configuration AVANT tous les imports\n",
    "os.environ['TF_CPP_MIN_LOG_LEVEL'] = '3'\n",
    "os.environ['PYTHONWARNINGS'] = 'ignore'\n",
    "os.environ['TF_ENABLE_ONEDNN_OPTS'] = '0'\n",
    "os.environ['CUDA_VISIBLE_DEVICES'] = '0'\n",
    "os.environ['TF_FORCE_GPU_ALLOW_GROWTH'] = 'true'\n",
    "os.environ['TF_GPU_THREAD_MODE'] = 'gpu_private'\n",
    "\n",
    "# Redirection temporaire de stderr pour masquer les messages TensorFlow/CUDA\n",
    "original_stderr = sys.stderr\n",
    "if os.name != 'nt':  # Linux/Mac\n",
    "    sys.stderr = open('/dev/null', 'w')\n",
    "else:  # Windows\n",
    "    sys.stderr = open('nul', 'w')\n",
    "\n",
    "try:\n",
    "    from pyspark.sql import SparkSession\n",
    "    from pyspark.sql import functions as F\n",
    "    from pyspark.ml.feature import PCA\n",
    "    import matplotlib.pyplot as plt\n",
    "    import numpy as np\n",
    "    from tensorflow.python.client import device_lib\n",
    "    from IPython.display import Image, display\n",
    "    import shutil\n",
    "    \n",
    "finally:\n",
    "    # Restauration de stderr après les imports\n",
    "    sys.stderr.close() \n",
    "    sys.stderr = original_stderr\n",
    "\n",
    "# Configuration matplotlib silencieuse\n",
    "plt.rcParams.update({'figure.max_open_warning': 0})\n",
    "import matplotlib\n",
    "matplotlib.use('Agg')  # Mode non-interactif\n",
    "\n",
    "# Préservation de la fonction sum() native Python\n",
    "python_sum = __builtins__['sum'] if isinstance(__builtins__, dict) else __builtins__.sum\n",
    "\n",
    "# Ajout du répertoire src au PYTHONPATH pour les imports\n",
    "sys.path.append('../src')\n",
    "\n",
    "# Imports des modules personnalisés\n",
    "from preprocessing import load_images_from_directory, extract_features_mobilenet\n",
    "from pca_reduction import convert_array_to_vector, get_optimal_pca_k, plot_variance_explained, apply_pca_on_features, plot_variance_curve\n",
    "from utils import export_dataframe_if_needed, setup_project_directories, clean_gpu_cache\n",
    "\n",
    "# Import du module EMR Simulation optimisé\n",
    "from emr_simulation import get_spark_session, get_s3_client, EMRSimulation, create_bucket_if_not_exists, get_optimal_config_for_hardware\n",
    "\n",
    "clean_gpu_cache()\n",
    "\n",
    "print(\"✅ Imports réalisés avec succès\")\n",
    "\n",
    "# Test détection hardware automatique\n",
    "print(\"\\n🔍 Détection automatique du hardware...\")\n",
    "hw_config = get_optimal_config_for_hardware()\n",
    "print(f\"🎯 Configuration recommandée : {hw_config['memory_recommendation']}\")\n",
    "\n",
    "# Test des imports critiques pour la simulation\n",
    "try:\n",
    "    import boto3\n",
    "    print(\"✅ boto3 OK\")\n",
    "except ImportError:\n",
    "    print(\"⚠️ boto3 manquant - pip install boto3\")\n",
    "\n",
    "# Test awslocal comme outil CLI (pas module Python)\n",
    "import subprocess\n",
    "try:\n",
    "    result = subprocess.run(['which', 'awslocal'], capture_output=True, text=True)\n",
    "    if result.returncode == 0:\n",
    "        print(\"✅ awslocal CLI OK\")\n",
    "    else:\n",
    "        print(\"⚠️ awslocal CLI manquant - pip install awscli-local\")\n",
    "except Exception:\n",
    "    print(\"⚠️ awslocal CLI non testé\")\n",
    "\n",
    "try:\n",
    "    import localstack\n",
    "    print(\"✅ localstack module OK\")\n",
    "except ImportError:\n",
    "    print(\"⚠️ localstack manquant - pip install localstack\")\n",
    "\n",
    "print(\"✅ Module EMR Simulation optimisé importé et testé\")"
   ]
  },
  {
   "cell_type": "markdown",
   "id": "35e18b53",
   "metadata": {},
   "source": [
    "# ============================================================================\n",
    "# 📋 CELLULE 2 : INITIALISATION SPARK MODE SIMULATION\n",
    "# ============================================================================"
   ]
  },
  {
   "cell_type": "code",
   "execution_count": 2,
   "id": "8f64eda0",
   "metadata": {},
   "outputs": [
    {
     "name": "stdout",
     "output_type": "stream",
     "text": [
      "🚀 Initialisation en mode SIMULATION (LocalStack S3)\n"
     ]
    }
   ],
   "source": [
    "print(\"🚀 Initialisation en mode SIMULATION (LocalStack S3)\")"
   ]
  },
  {
   "cell_type": "markdown",
   "id": "e9c03a86",
   "metadata": {},
   "source": [
    "## 2.1 - CONFIGURATION DU MODE - MODIFIABLE ICI"
   ]
  },
  {
   "cell_type": "code",
   "execution_count": 3,
   "id": "7de78e54",
   "metadata": {},
   "outputs": [
    {
     "name": "stdout",
     "output_type": "stream",
     "text": [
      "🔧 Mode sélectionné : local\n"
     ]
    }
   ],
   "source": [
    "MODE = \"local\"  # Options: \"local\", \"simulation\", \"production\"\n",
    "\n",
    "print(f\"🔧 Mode sélectionné : {MODE}\")"
   ]
  },
  {
   "cell_type": "markdown",
   "id": "8455a1d8",
   "metadata": {},
   "source": [
    "## 2.2 - Création session Spark avec auto-optimisation\n",
    "- Détection automatique GPU et configuration intelligente"
   ]
  },
  {
   "cell_type": "code",
   "execution_count": 4,
   "id": "1a222a0e",
   "metadata": {},
   "outputs": [
    {
     "name": "stdout",
     "output_type": "stream",
     "text": [
      "🔧 EMRSimulation initialisé en mode: local\n",
      "🚀 Optimisations GPU activées\n"
     ]
    },
    {
     "name": "stderr",
     "output_type": "stream",
     "text": [
      "your 131072x1 screen size is bogus. expect trouble\n",
      "25/07/29 14:44:25 WARN Utils: Your hostname, PC-ARNAUD resolves to a loopback address: 127.0.1.1; using 10.255.255.254 instead (on interface lo)\n",
      "25/07/29 14:44:25 WARN Utils: Set SPARK_LOCAL_IP if you need to bind to another address\n"
     ]
    },
    {
     "name": "stdout",
     "output_type": "stream",
     "text": [
      ":: loading settings :: url = jar:file:/home/nono66/P11/2-python/venv_p11/lib/python3.10/site-packages/pyspark/jars/ivy-2.5.1.jar!/org/apache/ivy/core/settings/ivysettings.xml\n"
     ]
    },
    {
     "name": "stderr",
     "output_type": "stream",
     "text": [
      "Ivy Default Cache set to: /home/nono66/.ivy2/cache\n",
      "The jars for the packages stored in: /home/nono66/.ivy2/jars\n",
      "org.apache.hadoop#hadoop-aws added as a dependency\n",
      "com.amazonaws#aws-java-sdk-bundle added as a dependency\n",
      ":: resolving dependencies :: org.apache.spark#spark-submit-parent-3c9b3c68-21c3-4c1c-81c1-17bae52cd896;1.0\n",
      "\tconfs: [default]\n",
      "\tfound org.apache.hadoop#hadoop-aws;3.3.4 in central\n",
      "\tfound org.wildfly.openssl#wildfly-openssl;1.0.7.Final in central\n",
      "\tfound com.amazonaws#aws-java-sdk-bundle;1.12.696 in central\n",
      ":: resolution report :: resolve 182ms :: artifacts dl 4ms\n",
      "\t:: modules in use:\n",
      "\tcom.amazonaws#aws-java-sdk-bundle;1.12.696 from central in [default]\n",
      "\torg.apache.hadoop#hadoop-aws;3.3.4 from central in [default]\n",
      "\torg.wildfly.openssl#wildfly-openssl;1.0.7.Final from central in [default]\n",
      "\t:: evicted modules:\n",
      "\tcom.amazonaws#aws-java-sdk-bundle;1.12.262 by [com.amazonaws#aws-java-sdk-bundle;1.12.696] in [default]\n",
      "\t---------------------------------------------------------------------\n",
      "\t|                  |            modules            ||   artifacts   |\n",
      "\t|       conf       | number| search|dwnlded|evicted|| number|dwnlded|\n",
      "\t---------------------------------------------------------------------\n",
      "\t|      default     |   4   |   0   |   0   |   1   ||   3   |   0   |\n",
      "\t---------------------------------------------------------------------\n",
      ":: retrieving :: org.apache.spark#spark-submit-parent-3c9b3c68-21c3-4c1c-81c1-17bae52cd896\n",
      "\tconfs: [default]\n",
      "\t0 artifacts copied, 3 already retrieved (0kB/4ms)\n",
      "25/07/29 14:44:26 WARN NativeCodeLoader: Unable to load native-hadoop library for your platform... using builtin-java classes where applicable\n",
      "Setting default log level to \"WARN\".\n",
      "To adjust logging level use sc.setLogLevel(newLevel). For SparkR, use setLogLevel(newLevel).\n",
      "25/07/29 14:44:27 WARN Utils: Service 'SparkUI' could not bind on port 4040. Attempting port 4041.\n"
     ]
    },
    {
     "name": "stdout",
     "output_type": "stream",
     "text": [
      "✅ Session Spark créée - Mode: local - Version: 3.4.1\n",
      "📊 Config mémoire: 6g executor / 4g driver\n",
      "🎯 Cores disponibles: 16\n"
     ]
    }
   ],
   "source": [
    "enable_gpu = hw_config[\"gpu_available\"] and MODE == \"local\"\n",
    "\n",
    "spark = get_spark_session(\n",
    "    mode=MODE, \n",
    "    app_name=\"FruitsPipelineSimulation\",\n",
    "    enable_gpu=enable_gpu  # 🔴 Auto-détection GPU\n",
    ")"
   ]
  },
  {
   "cell_type": "markdown",
   "id": "d04f581c",
   "metadata": {},
   "source": [
    "## 2.3 - Configuration du logging"
   ]
  },
  {
   "cell_type": "code",
   "execution_count": 5,
   "id": "5f9fe196",
   "metadata": {},
   "outputs": [],
   "source": [
    "spark.sparkContext.setLogLevel(\"ERROR\")"
   ]
  },
  {
   "cell_type": "markdown",
   "id": "b481a498",
   "metadata": {},
   "source": [
    "## 2.4 - onfiguration EMR Simulation avec GPU"
   ]
  },
  {
   "cell_type": "code",
   "execution_count": 6,
   "id": "5127522f",
   "metadata": {},
   "outputs": [
    {
     "name": "stdout",
     "output_type": "stream",
     "text": [
      "🔧 EMRSimulation initialisé en mode: local\n",
      "🚀 Optimisations GPU activées\n",
      "🚀 Session Spark créée : 3.4.1\n",
      "📊 Nombre de cœurs disponibles : 16\n",
      "🗂️ Stockage configuré : outputs\n"
     ]
    }
   ],
   "source": [
    "emr_config = EMRSimulation(mode=MODE, enable_gpu=enable_gpu)\n",
    "\n",
    "print(f\"🚀 Session Spark créée : {spark.version}\")\n",
    "print(f\"📊 Nombre de cœurs disponibles : {spark.sparkContext.defaultParallelism}\")\n",
    "print(f\"🗂️ Stockage configuré : {emr_config.get_storage_path()}\")"
   ]
  },
  {
   "cell_type": "markdown",
   "id": "7290ef8f",
   "metadata": {},
   "source": [
    "## 2.5 - Affichage de la config mémoire appliquée"
   ]
  },
  {
   "cell_type": "code",
   "execution_count": 7,
   "id": "96513758",
   "metadata": {},
   "outputs": [
    {
     "name": "stdout",
     "output_type": "stream",
     "text": [
      "💾 Config mémoire : 6g executor / 4g driver\n"
     ]
    }
   ],
   "source": [
    "memory_config = emr_config.get_memory_config()\n",
    "print(f\"💾 Config mémoire : {memory_config['spark.executor.memory']} executor / {memory_config['spark.driver.memory']} driver\")"
   ]
  },
  {
   "cell_type": "markdown",
   "id": "30f8cd97",
   "metadata": {},
   "source": [
    "# ============================================================================\n",
    "# 📋 CELLULE 3 : CONFIGURATION DES CHEMINS ET RÉPERTOIRES\n",
    "# ============================================================================"
   ]
  },
  {
   "cell_type": "code",
   "execution_count": 8,
   "id": "158776a4",
   "metadata": {},
   "outputs": [
    {
     "name": "stdout",
     "output_type": "stream",
     "text": [
      "📁 Configuration des chemins selon le mode...\n"
     ]
    }
   ],
   "source": [
    "print(\"📁 Configuration des chemins selon le mode...\")"
   ]
  },
  {
   "cell_type": "markdown",
   "id": "633d9f56",
   "metadata": {},
   "source": [
    "## 3.1 - Chemin des données d'entrée (toujours local)"
   ]
  },
  {
   "cell_type": "code",
   "execution_count": 9,
   "id": "ac8bb54b",
   "metadata": {},
   "outputs": [],
   "source": [
    "DATA_PATH = \"../data/fruits-360/Test\""
   ]
  },
  {
   "cell_type": "markdown",
   "id": "3a372280",
   "metadata": {},
   "source": [
    "## 3.2 - Chemins de sortie selon le mode"
   ]
  },
  {
   "cell_type": "code",
   "execution_count": 10,
   "id": "f8693ae7",
   "metadata": {},
   "outputs": [
    {
     "name": "stdout",
     "output_type": "stream",
     "text": [
      "📁 Chemin des données : ../data/fruits-360/Test\n",
      "📁 Chemin de sortie : ../outputs\n",
      "📁 Chemin cache : ../outputs/cache\n"
     ]
    }
   ],
   "source": [
    "if MODE == \"local\":\n",
    "    OUTPUTS_PATH = \"../outputs\"\n",
    "    CACHE_PATH = \"../outputs/cache\"\n",
    "else:\n",
    "    # Modes simulation et production : utilisation S3\n",
    "    OUTPUTS_PATH = emr_config.get_storage_path()\n",
    "    CACHE_PATH = emr_config.get_storage_path(\"cache\")\n",
    "\n",
    "print(f\"📁 Chemin des données : {DATA_PATH}\")\n",
    "print(f\"📁 Chemin de sortie : {OUTPUTS_PATH}\")\n",
    "print(f\"📁 Chemin cache : {CACHE_PATH}\")"
   ]
  },
  {
   "cell_type": "markdown",
   "id": "2369d206",
   "metadata": {},
   "source": [
    "## 3.3 - Création de l'arborescence pour le mode local"
   ]
  },
  {
   "cell_type": "code",
   "execution_count": 11,
   "id": "5d98b0c9",
   "metadata": {},
   "outputs": [
    {
     "name": "stdout",
     "output_type": "stream",
     "text": [
      "📁 Tous les répertoires existent déjà\n",
      "📁 Répertoires locaux configurés\n"
     ]
    }
   ],
   "source": [
    "if MODE == \"local\":\n",
    "    directories = setup_project_directories(base_path=\"../\")\n",
    "    print(\"📁 Répertoires locaux configurés\")"
   ]
  },
  {
   "cell_type": "markdown",
   "id": "0fa6404b",
   "metadata": {},
   "source": [
    "## 3.4 - Vérification de l'existence des données"
   ]
  },
  {
   "cell_type": "code",
   "execution_count": 12,
   "id": "45407742",
   "metadata": {},
   "outputs": [
    {
     "name": "stdout",
     "output_type": "stream",
     "text": [
      "📸 Nombre total d'images détectées : 22688\n"
     ]
    }
   ],
   "source": [
    "if not os.path.exists(DATA_PATH):\n",
    "    print(f\"❌ ERREUR : Le répertoire {DATA_PATH} n'existe pas !\")\n",
    "    print(\"💡 Assure-toi d'avoir téléchargé et extrait le dataset Fruits-360\")\n",
    "else:\n",
    "    total_images = python_sum([len(files) for r, d, files in os.walk(DATA_PATH) if files])\n",
    "    print(f\"📸 Nombre total d'images détectées : {total_images}\")"
   ]
  },
  {
   "cell_type": "markdown",
   "id": "a33da51a",
   "metadata": {},
   "source": [
    "# ============================================================================\n",
    "# 📋 CELLULE 4 : CONFIGURATION BUCKET S3 (AVEC TESTS AVANCÉS)\n",
    "# ============================================================================"
   ]
  },
  {
   "cell_type": "code",
   "execution_count": 13,
   "id": "b4a2c6b3",
   "metadata": {},
   "outputs": [
    {
     "name": "stdout",
     "output_type": "stream",
     "text": [
      "🪣 Configuration et test avancé du bucket S3...\n"
     ]
    }
   ],
   "source": [
    "print(\"🪣 Configuration et test avancé du bucket S3...\")"
   ]
  },
  {
   "cell_type": "markdown",
   "id": "80e990ef",
   "metadata": {},
   "source": [
    "## 4.1 - Configuration S3 selon le mode"
   ]
  },
  {
   "cell_type": "code",
   "execution_count": 14,
   "id": "e7766365",
   "metadata": {},
   "outputs": [
    {
     "name": "stdout",
     "output_type": "stream",
     "text": [
      "📁 Mode local : pas de configuration S3 nécessaire\n"
     ]
    }
   ],
   "source": [
    "if MODE in [\"simulation\", \"production\"]:\n",
    "    # Nom du bucket selon le mode\n",
    "    bucket_name = \"fruits-p11-simulation\" if MODE == \"simulation\" else \"fruits-p11-production\"\n",
    "    \n",
    "    # Test de connectivité S3 via module optimisé\n",
    "    print(f\"🔍 Test connectivité S3 pour mode {MODE}...\")\n",
    "    emr_test = EMRSimulation(mode=MODE)\n",
    "    s3_connection_ok = emr_test.test_s3_connection()\n",
    "    \n",
    "    if s3_connection_ok:\n",
    "        print(\"✅ Connexion S3 établie\")\n",
    "        \n",
    "        # Création/vérification du bucket\n",
    "        success = create_bucket_if_not_exists(mode=MODE, bucket_name=bucket_name)\n",
    "        \n",
    "        if success:\n",
    "            print(f\"✅ Bucket {bucket_name} prêt\")\n",
    "            \n",
    "            # Test avancé lecture/écriture avec métadonnées\n",
    "            try:\n",
    "                s3_client = get_s3_client(mode=MODE)\n",
    "                \n",
    "                # Test avec métadonnées enrichies\n",
    "                test_content = f\"Test pipeline {MODE} optimisé - \" + str(np.random.randint(1000, 9999))\n",
    "                test_key = \"test/connectivity_test_advanced.txt\"\n",
    "                \n",
    "                # Écriture avec métadonnées\n",
    "                s3_client.put_object(\n",
    "                    Bucket=bucket_name,\n",
    "                    Key=test_key,\n",
    "                    Body=test_content,\n",
    "                    Metadata={\n",
    "                        'pipeline-version': '2.0',\n",
    "                        'test-type': 'connectivity',\n",
    "                        'gpu-enabled': str(enable_gpu)\n",
    "                    }\n",
    "                )\n",
    "                \n",
    "                # Test lecture\n",
    "                response = s3_client.get_object(Bucket=bucket_name, Key=test_key)\n",
    "                read_content = response['Body'].read().decode('utf-8')\n",
    "                \n",
    "                if test_content == read_content:\n",
    "                    print(\"✅ Test lecture/écriture S3 avancé OK\")\n",
    "                    print(f\"📊 Métadonnées : {response.get('Metadata', {})}\")\n",
    "                else:\n",
    "                    print(\"⚠️ Problème cohérence lecture/écriture S3\")\n",
    "                    \n",
    "            except Exception as e:\n",
    "                print(f\"❌ Erreur test S3 avancé : {e}\")\n",
    "                print(\"💡 Vérifiez que LocalStack est démarré : docker ps\")\n",
    "        else:\n",
    "            print(f\"❌ Impossible de configurer le bucket {bucket_name}\")\n",
    "            print(\"💡 Le pipeline continuera mais les sauvegardes pourraient échouer\")\n",
    "    else:\n",
    "        print(\"❌ Connexion S3 échouée\")\n",
    "        print(\"💡 Vérifiez LocalStack (simulation) ou credentials AWS (production)\")\n",
    "\n",
    "else:\n",
    "    print(\"📁 Mode local : pas de configuration S3 nécessaire\")"
   ]
  },
  {
   "cell_type": "markdown",
   "id": "dd0acbff",
   "metadata": {},
   "source": [
    "# ============================================================================\n",
    "# 📋 CELLULE 5 : CHARGEMENT DES DONNÉES\n",
    "# ============================================================================"
   ]
  },
  {
   "cell_type": "code",
   "execution_count": 15,
   "id": "1237a507",
   "metadata": {},
   "outputs": [
    {
     "name": "stdout",
     "output_type": "stream",
     "text": [
      "\n",
      "🔄 Étape 1/5 : Chargement des images depuis le répertoire...\n"
     ]
    }
   ],
   "source": [
    "print(\"\\n🔄 Étape 1/5 : Chargement des images depuis le répertoire...\")"
   ]
  },
  {
   "cell_type": "markdown",
   "id": "0953940d",
   "metadata": {},
   "source": [
    "## 5.1 - Configuration du cache selon le mode"
   ]
  },
  {
   "cell_type": "code",
   "execution_count": 16,
   "id": "2cbd3972",
   "metadata": {},
   "outputs": [
    {
     "name": "stdout",
     "output_type": "stream",
     "text": [
      "💾 Cache images : ../outputs/cache/images_paths.parquet\n",
      "✅ Chargement depuis le cache : ../outputs/cache/images_paths.parquet\n"
     ]
    },
    {
     "name": "stderr",
     "output_type": "stream",
     "text": [
      "                                                                                \r"
     ]
    },
    {
     "name": "stdout",
     "output_type": "stream",
     "text": [
      "✅ Chargement terminé\n",
      "📊 Aperçu des données :\n",
      "+---------------------------------------------------+-------------+\n",
      "|path                                               |label        |\n",
      "+---------------------------------------------------+-------------+\n",
      "|../data/fruits-360/Test/Grape White 3/169_100.jpg  |Grape White 3|\n",
      "|../data/fruits-360/Test/Grape White 3/132_100.jpg  |Grape White 3|\n",
      "|../data/fruits-360/Test/Grape White 3/r_153_100.jpg|Grape White 3|\n",
      "|../data/fruits-360/Test/Grape White 3/147_100.jpg  |Grape White 3|\n",
      "|../data/fruits-360/Test/Strawberry/r_52_100.jpg    |Strawberry   |\n",
      "+---------------------------------------------------+-------------+\n",
      "only showing top 5 rows\n",
      "\n",
      "📈 Nombre total d'images chargées : 500\n"
     ]
    }
   ],
   "source": [
    "if MODE == \"local\":\n",
    "    cache_path_images = f\"{CACHE_PATH}/images_paths.parquet\"\n",
    "else:\n",
    "    cache_path_images = emr_config.get_storage_path(\"cache/images_paths.parquet\")\n",
    "\n",
    "print(f\"💾 Cache images : {cache_path_images}\")\n",
    "\n",
    "df_images = load_images_from_directory(\n",
    "    spark=spark, \n",
    "    data_path=DATA_PATH,\n",
    "    sample_size=500,  # Limitation pour les tests - à augmenter en production\n",
    "    cache_path=cache_path_images,\n",
    "    force_retrain=False\n",
    ")\n",
    "\n",
    "print(\"✅ Chargement terminé\")\n",
    "print(\"📊 Aperçu des données :\")\n",
    "df_images.show(5, truncate=False)\n",
    "print(f\"📈 Nombre total d'images chargées : {df_images.count()}\")"
   ]
  },
  {
   "cell_type": "markdown",
   "id": "f4c66612",
   "metadata": {},
   "source": [
    "# ============================================================================\n",
    "# 📋 CELLULE 6 : EXTRACTION DES FEATURES AVEC MOBILENETV2\n",
    "# ============================================================================"
   ]
  },
  {
   "cell_type": "code",
   "execution_count": 17,
   "id": "817a1e16",
   "metadata": {},
   "outputs": [
    {
     "name": "stdout",
     "output_type": "stream",
     "text": [
      "\n",
      "🔄 Étape 2/5 : Extraction des features avec MobileNetV2...\n",
      "⚠️  Cette étape peut prendre plusieurs minutes selon le nombre d'images\n"
     ]
    }
   ],
   "source": [
    "print(\"\\n🔄 Étape 2/5 : Extraction des features avec MobileNetV2...\")\n",
    "print(\"⚠️  Cette étape peut prendre plusieurs minutes selon le nombre d'images\")"
   ]
  },
  {
   "cell_type": "markdown",
   "id": "80371000",
   "metadata": {},
   "source": [
    "## 6.1 - Configuration du cache selon le mode "
   ]
  },
  {
   "cell_type": "code",
   "execution_count": 18,
   "id": "e417bb90",
   "metadata": {},
   "outputs": [
    {
     "name": "stdout",
     "output_type": "stream",
     "text": [
      "💾 Cache features : ../outputs/cache/features_mobilenet_gpu.parquet\n",
      "🚀 Mode GPU activé : batch_size=32\n",
      "✅ Chargement depuis le cache : ../outputs/cache/features_mobilenet_gpu.parquet\n",
      "✅ Extraction des features terminée\n",
      "📊 Vérification des dimensions des features :\n"
     ]
    }
   ],
   "source": [
    "if MODE == \"local\":\n",
    "    cache_path_features = f\"{CACHE_PATH}/features_mobilenet_gpu.parquet\"\n",
    "else:\n",
    "    cache_path_features = emr_config.get_storage_path(\"cache/features_mobilenet_simulation.parquet\")\n",
    "\n",
    "print(f\"💾 Cache features : {cache_path_features}\")\n",
    "\n",
    "# Batch size adaptatif selon GPU et mode\n",
    "if enable_gpu and MODE == \"local\":\n",
    "    batch_size = 32  # GTX 1060 6GB optimisé\n",
    "    print(\"🚀 Mode GPU activé : batch_size=32\")\n",
    "elif MODE == \"production\":\n",
    "    batch_size = 64  # AWS instances plus puissantes\n",
    "    print(\"☁️ Mode production : batch_size=64\")\n",
    "else:\n",
    "    batch_size = 16  # Simulation/CPU : plus conservateur\n",
    "    print(\"💻 Mode CPU/simulation : batch_size=16\")\n",
    "\n",
    "df_features = extract_features_mobilenet(\n",
    "    spark=spark,\n",
    "    df=df_images,\n",
    "    cache_path=cache_path_features,\n",
    "    force_retrain=False,\n",
    "    batch_size=batch_size  # 🔴 Batch size adaptatif\n",
    ")\n",
    "\n",
    "print(\"✅ Extraction des features terminée\")\n",
    "print(\"📊 Vérification des dimensions des features :\")"
   ]
  },
  {
   "cell_type": "markdown",
   "id": "aa30b7b4",
   "metadata": {},
   "source": [
    "## 6.2 - Inspection d'un échantillon de features"
   ]
  },
  {
   "cell_type": "code",
   "execution_count": 19,
   "id": "d9654ee1",
   "metadata": {},
   "outputs": [
    {
     "name": "stdout",
     "output_type": "stream",
     "text": [
      "🎯 Dimension des vecteurs de caractéristiques : 1280\n",
      "🎯 Type des données : <class 'list'>\n",
      "🎯 Exemple de valeurs : [0.690702497959137, 0.9102954268455505, 0.0, 0.0, 0.08946313709020615, 0.0, 0.3325121998786926, 0.7319117188453674, 0.1733175814151764, 0.023059630766510963]...\n"
     ]
    }
   ],
   "source": [
    "sample_features = df_features.select(\"features\").first()[\"features\"]\n",
    "print(f\"🎯 Dimension des vecteurs de caractéristiques : {len(sample_features)}\")\n",
    "print(f\"🎯 Type des données : {type(sample_features)}\")\n",
    "print(f\"🎯 Exemple de valeurs : {sample_features[:10]}...\")"
   ]
  },
  {
   "cell_type": "markdown",
   "id": "7a13965a",
   "metadata": {},
   "source": [
    "# ============================================================================\n",
    "# 📋 CELLULE 7 : CONVERSION AU FORMAT SPARK ML\n",
    "# ============================================================================"
   ]
  },
  {
   "cell_type": "code",
   "execution_count": 20,
   "id": "45d79984",
   "metadata": {},
   "outputs": [
    {
     "name": "stdout",
     "output_type": "stream",
     "text": [
      "\n",
      "🔄 Étape 3/5 : Conversion des données au format Spark ML...\n"
     ]
    }
   ],
   "source": [
    "print(\"\\n🔄 Étape 3/5 : Conversion des données au format Spark ML...\")"
   ]
  },
  {
   "cell_type": "markdown",
   "id": "9e6e6133",
   "metadata": {},
   "source": [
    "## 7.1 - Conversion nécessaire pour PCA via fonction externalisée"
   ]
  },
  {
   "cell_type": "code",
   "execution_count": 21,
   "id": "6b147c29",
   "metadata": {},
   "outputs": [
    {
     "name": "stdout",
     "output_type": "stream",
     "text": [
      "🔄 Conversion des arrays Python vers des vecteurs Spark ML...\n",
      "✅ Conversion terminée - les features sont maintenant au format VectorUDT\n",
      "✅ Conversion terminée\n",
      "📊 Vérification du schéma après conversion :\n",
      "root\n",
      " |-- path: string (nullable = true)\n",
      " |-- label: string (nullable = true)\n",
      " |-- features: vector (nullable = true)\n",
      "\n"
     ]
    }
   ],
   "source": [
    "df_features_converted = convert_array_to_vector(df_features, features_col=\"features\")\n",
    "\n",
    "print(\"✅ Conversion terminée\")\n",
    "print(\"📊 Vérification du schéma après conversion :\")\n",
    "df_features_converted.printSchema()"
   ]
  },
  {
   "cell_type": "markdown",
   "id": "b29bb97a",
   "metadata": {},
   "source": [
    "# ============================================================================\n",
    "# 📋 CELLULE 8 : CALCUL PCA ULTRA-OPTIMISÉ\n",
    "# ============================================================================"
   ]
  },
  {
   "cell_type": "code",
   "execution_count": 22,
   "id": "0bca6acc",
   "metadata": {},
   "outputs": [
    {
     "name": "stdout",
     "output_type": "stream",
     "text": [
      "\n",
      "🔄 Étape 4/5 : Analyse PCA ultra-optimisée...\n"
     ]
    }
   ],
   "source": [
    "print(\"\\n🔄 Étape 4/5 : Analyse PCA ultra-optimisée...\")"
   ]
  },
  {
   "cell_type": "markdown",
   "id": "8e3fed10",
   "metadata": {},
   "source": [
    "## 8.1 - Cache intelligent du DataFrame features"
   ]
  },
  {
   "cell_type": "code",
   "execution_count": 23,
   "id": "9acb8c0c",
   "metadata": {},
   "outputs": [
    {
     "name": "stdout",
     "output_type": "stream",
     "text": [
      "💾 Cache DataFrame en mémoire...\n"
     ]
    },
    {
     "name": "stderr",
     "output_type": "stream",
     "text": [
      "[Stage 7:>                                                        (0 + 16) / 16]\r"
     ]
    },
    {
     "name": "stdout",
     "output_type": "stream",
     "text": [
      "✅ DataFrame mis en cache\n"
     ]
    },
    {
     "name": "stderr",
     "output_type": "stream",
     "text": [
      "                                                                                \r"
     ]
    }
   ],
   "source": [
    "print(\"💾 Cache DataFrame en mémoire...\")\n",
    "df_features_converted.cache()\n",
    "df_features_converted.count()  # Force le cache\n",
    "print(\"✅ DataFrame mis en cache\")"
   ]
  },
  {
   "cell_type": "markdown",
   "id": "a882dd86",
   "metadata": {},
   "source": [
    "## 8.2 - Configuration cache PCA selon le mode"
   ]
  },
  {
   "cell_type": "code",
   "execution_count": 24,
   "id": "0e04dfb6",
   "metadata": {},
   "outputs": [
    {
     "name": "stdout",
     "output_type": "stream",
     "text": [
      "💾 Cache PCA optimisé : ../outputs/cache/pca_variance_analysis_gpu.parquet\n"
     ]
    }
   ],
   "source": [
    "if MODE == \"local\":\n",
    "    cache_path_pca = f\"{CACHE_PATH}/pca_variance_analysis_gpu.parquet\"\n",
    "else:\n",
    "    cache_path_pca = emr_config.get_storage_path(\"cache/pca_variance_analysis_optimized.parquet\")\n",
    "\n",
    "print(f\"💾 Cache PCA optimisé : {cache_path_pca}\")"
   ]
  },
  {
   "cell_type": "markdown",
   "id": "1f981239",
   "metadata": {},
   "source": [
    "## 8.3 - PCA avec réutilisation intelligente des résultats notebook 01"
   ]
  },
  {
   "cell_type": "code",
   "execution_count": 25,
   "id": "2a14a3ef",
   "metadata": {},
   "outputs": [],
   "source": [
    "import time\n",
    "start_time = time.time()"
   ]
  },
  {
   "cell_type": "markdown",
   "id": "66846cb9",
   "metadata": {},
   "source": [
    "## 8.4 - Vérification cache existant du notebook 01"
   ]
  },
  {
   "cell_type": "code",
   "execution_count": 26,
   "id": "86356c2e",
   "metadata": {},
   "outputs": [
    {
     "name": "stdout",
     "output_type": "stream",
     "text": [
      "🔍 Recherche de résultats PCA précédents...\n",
      "🔄 Calcul PCA optimisé (cache non trouvé)...\n",
      "🆕 Pas de cache détecté ou recalcul forcé : calcul des variances cumulées...\n",
      "📊 Test de k=1 à k=70 composantes principales...\n",
      "   Calcul PCA pour k=1... "
     ]
    },
    {
     "name": "stderr",
     "output_type": "stream",
     "text": [
      "                                                                                \r"
     ]
    },
    {
     "name": "stdout",
     "output_type": "stream",
     "text": [
      "Variance cumulée: 0.2656 (26.56%)\n",
      "   Calcul PCA pour k=2... Variance cumulée: 0.4741 (47.41%)\n",
      "   Calcul PCA pour k=3... Variance cumulée: 0.0414 (4.14%)\n",
      "   Calcul PCA pour k=4... Variance cumulée: 0.6639 (66.39%)\n",
      "   Calcul PCA pour k=5... Variance cumulée: 0.6949 (69.49%)\n",
      "   Calcul PCA pour k=6... Variance cumulée: 0.7237 (72.37%)\n",
      "   Calcul PCA pour k=7... Variance cumulée: 0.7455 (74.55%)\n",
      "   Calcul PCA pour k=8... Variance cumulée: 0.3672 (36.72%)\n",
      "   Calcul PCA pour k=9... Variance cumulée: 0.1114 (11.14%)\n",
      "   Calcul PCA pour k=10... Variance cumulée: 0.7868 (78.68%)\n",
      "   Calcul PCA pour k=11... Variance cumulée: 0.7971 (79.71%)\n",
      "   Calcul PCA pour k=12... Variance cumulée: 0.8063 (80.63%)\n",
      "   Calcul PCA pour k=13... Variance cumulée: 0.8151 (81.51%)\n",
      "   Calcul PCA pour k=14... Variance cumulée: 0.8232 (82.32%)\n",
      "   Calcul PCA pour k=15... Variance cumulée: 0.8308 (83.08%)\n",
      "   Calcul PCA pour k=16... Variance cumulée: 0.8376 (83.76%)\n",
      "   Calcul PCA pour k=17... Variance cumulée: 0.8434 (84.34%)\n",
      "   Calcul PCA pour k=18... Variance cumulée: 0.8488 (84.88%)\n",
      "   Calcul PCA pour k=19... Variance cumulée: 0.8539 (85.39%)\n",
      "   Calcul PCA pour k=20... Variance cumulée: 0.8584 (85.84%)\n",
      "   Calcul PCA pour k=21... Variance cumulée: 0.8628 (86.28%)\n",
      "   Calcul PCA pour k=22... Variance cumulée: 0.8668 (86.68%)\n",
      "   Calcul PCA pour k=23... Variance cumulée: 0.8706 (87.06%)\n",
      "   Calcul PCA pour k=24... Variance cumulée: 0.8742 (87.42%)\n",
      "   Calcul PCA pour k=25... Variance cumulée: 0.8778 (87.78%)\n",
      "   Calcul PCA pour k=26... Variance cumulée: 0.8812 (88.12%)\n",
      "   Calcul PCA pour k=27... Variance cumulée: 0.8845 (88.45%)\n",
      "   Calcul PCA pour k=28... Variance cumulée: 0.8875 (88.75%)\n",
      "   Calcul PCA pour k=29... Variance cumulée: 0.8903 (89.03%)\n",
      "   Calcul PCA pour k=30... Variance cumulée: 0.8929 (89.29%)\n",
      "   Calcul PCA pour k=31... Variance cumulée: 0.8955 (89.55%)\n",
      "   Calcul PCA pour k=32... Variance cumulée: 0.8978 (89.78%)\n",
      "   Calcul PCA pour k=33... Variance cumulée: 0.9002 (90.02%)\n",
      "   Calcul PCA pour k=34... Variance cumulée: 0.9025 (90.25%)\n",
      "   Calcul PCA pour k=35... Variance cumulée: 0.9604 (96.04%)\n",
      "🎯 Seuil de 95.0% atteint avec k=35\n"
     ]
    },
    {
     "name": "stderr",
     "output_type": "stream",
     "text": [
      "                                                                                \r"
     ]
    },
    {
     "name": "stdout",
     "output_type": "stream",
     "text": [
      "💾 Variance cumulée sauvegardée dans ../outputs/cache/pca_variance_analysis_gpu.parquet\n",
      "\n",
      "🧪 Aperçu des résultats :\n",
      "+---+---------------------+-------------------+\n",
      "|k  |individual_variance  |cum_variance       |\n",
      "+---+---------------------+-------------------+\n",
      "|1  |0.2655833735146533   |0.2655833735146533 |\n",
      "|2  |0.2085269663890655   |0.47411033990371887|\n",
      "|3  |0.01266988399486699  |0.04136742849929346|\n",
      "|4  |0.07915272374880442  |0.66385852822725   |\n",
      "|5  |0.031028624082689044 |0.6948871523099392 |\n",
      "|6  |0.028769070088327242 |0.7236562223982661 |\n",
      "|7  |0.021848339116398188 |0.7455045615146642 |\n",
      "|8  |0.040019572292652045 |0.3672131948465579 |\n",
      "|9  |0.011355753810557784 |0.1114472218895699 |\n",
      "|10 |0.011709280162410875 |0.7868429401392255 |\n",
      "|11 |0.010219268569100317 |0.797062208708326  |\n",
      "|12 |0.00919384975557515  |0.8062560584639011 |\n",
      "|13 |0.008883518626123195 |0.8151395770900243 |\n",
      "|14 |0.008077442165124614 |0.823217019255149  |\n",
      "|15 |0.007609229970823864 |0.8308262492259729 |\n",
      "|16 |0.00676363148194209  |0.837589880707915  |\n",
      "|17 |0.005798381713562773 |0.8433882624214775 |\n",
      "|18 |0.0054317978576618135|0.8488200602791395 |\n",
      "|19 |0.005095689712165078 |0.8539157499913046 |\n",
      "|20 |0.004520963013464106 |0.8584367130047686 |\n",
      "+---+---------------------+-------------------+\n",
      "only showing top 20 rows\n",
      "\n",
      "✅ 35 composantes nécessaires pour expliquer au moins 95.0% de la variance.\n",
      "📊 Variance exacte atteinte avec k=35 : 0.9604 (96.04%)\n",
      "⚡ Analyse PCA terminée en 151.5s\n",
      "🎯 RÉSULTAT FINAL : k_optimal = 35 composantes\n"
     ]
    }
   ],
   "source": [
    "force_retrain = False\n",
    "local_cache_pca = \"../outputs/cache/pca_variance_analysis.parquet\"\n",
    "k_optimal_precalcule = 56  # Résultat validé notebook 01\n",
    "local_cache_pca = \"../outputs/cache/pca_variance_analysis_gpu.parquet\"\n",
    "\n",
    "print(\"🔍 Recherche de résultats PCA précédents...\")\n",
    "\n",
    "if os.path.exists(local_cache_pca) and not force_retrain:\n",
    "    print(f\"⚡ TURBO: Réutilisation cache PCA du notebook 01\")\n",
    "    print(f\"✅ Cache PCA trouvé : {local_cache_pca}\")\n",
    "    \n",
    "    try:\n",
    "        # Chargement des vraies données de variance pour graphiques\n",
    "        df_variance_cache = spark.read.parquet(local_cache_pca)\n",
    "        variance_data = [(row.k, row.individual_variance, row.cum_variance) \n",
    "                        for row in df_variance_cache.orderBy(\"k\").collect()]\n",
    "        k_optimal = k_optimal_precalcule\n",
    "        \n",
    "        print(f\"✅ {len(variance_data)} points de variance chargés depuis cache\")\n",
    "        print(f\"🎯 RÉSULTAT RÉUTILISÉ : k_optimal = {k_optimal} composantes\")\n",
    "        \n",
    "    except Exception as e:\n",
    "        print(f\"⚠️ Erreur chargement cache : {e}\")\n",
    "        print(\"🔄 Fallback sur calcul optimisé...\")\n",
    "        # Calcul avec paramètres optimisés\n",
    "        k_optimal, variance_data = get_optimal_pca_k(\n",
    "            df=df_features_converted,\n",
    "            spark=spark,\n",
    "            max_k=70,  # Arrêt précoce (on sait que k=56)\n",
    "            threshold=0.95,\n",
    "            force_retrain=False,\n",
    "            cache_path=cache_path_pca\n",
    "        )\n",
    "else:\n",
    "    print(\"🔄 Calcul PCA optimisé (cache non trouvé)...\")\n",
    "    # Calcul avec paramètres optimisés\n",
    "    k_optimal, variance_data = get_optimal_pca_k(\n",
    "        df=df_features_converted,\n",
    "        spark=spark,\n",
    "        max_k=70,  # Réduit de 200 à 70 (sachant que k=56 optimal)\n",
    "        threshold=0.95,\n",
    "        force_retrain=False,\n",
    "        cache_path=cache_path_pca\n",
    "    )\n",
    "\n",
    "calc_time = time.time() - start_time\n",
    "print(f\"⚡ Analyse PCA terminée en {calc_time:.1f}s\")\n",
    "print(f\"🎯 RÉSULTAT FINAL : k_optimal = {k_optimal} composantes\")"
   ]
  },
  {
   "cell_type": "markdown",
   "id": "4c1f18d9",
   "metadata": {},
   "source": [
    "## 8.5 - Libération intelligente du cache"
   ]
  },
  {
   "cell_type": "code",
   "execution_count": 27,
   "id": "879fb7e6",
   "metadata": {},
   "outputs": [
    {
     "name": "stdout",
     "output_type": "stream",
     "text": [
      "🧹 Cache libéré pour optimiser la suite\n"
     ]
    }
   ],
   "source": [
    "if calc_time > 30 or MODE in [\"simulation\", \"production\"]:\n",
    "    df_features_converted.unpersist()\n",
    "    print(\"🧹 Cache libéré pour optimiser la suite\")"
   ]
  },
  {
   "cell_type": "markdown",
   "id": "371c092a",
   "metadata": {},
   "source": [
    "# ============================================================================\n",
    "# 📋 CELLULE 9 : GÉNÉRATION DES GRAPHIQUES OPTIMISÉE\n",
    "# ============================================================================"
   ]
  },
  {
   "cell_type": "code",
   "execution_count": 28,
   "id": "a787f7f9",
   "metadata": {},
   "outputs": [
    {
     "name": "stdout",
     "output_type": "stream",
     "text": [
      "\n",
      "📈 Génération du graphique de variance expliquée...\n"
     ]
    }
   ],
   "source": [
    "print(\"\\n📈 Génération du graphique de variance expliquée...\")"
   ]
  },
  {
   "cell_type": "markdown",
   "id": "811bae54",
   "metadata": {},
   "source": [
    "## 9.1 - Chemins de graphiques selon le mode"
   ]
  },
  {
   "cell_type": "code",
   "execution_count": 29,
   "id": "3979572b",
   "metadata": {},
   "outputs": [],
   "source": [
    "plot_path = \"../outputs/pca_variance_plot.png\"\n",
    "final_plot_path = \"../outputs/pca_variance_final.png\"\n",
    "analysis_plot_path = \"../outputs/pca_variance_analysis.png\"\n",
    "\n",
    "# Pour S3, on génère d'abord en local puis on upload\n",
    "plots_config = [\n",
    "    (final_plot_path, \"plots/pca_variance_final.png\", \"variance-curve\"),\n",
    "    (analysis_plot_path, \"plots/pca_variance_analysis.png\", \"variance-analysis\")\n",
    "]"
   ]
  },
  {
   "cell_type": "markdown",
   "id": "328c8538",
   "metadata": {},
   "source": [
    "## 9.2 - Génération des graphiques"
   ]
  },
  {
   "cell_type": "code",
   "execution_count": 30,
   "id": "c67c379b",
   "metadata": {},
   "outputs": [
    {
     "name": "stdout",
     "output_type": "stream",
     "text": [
      "📈 Génération du graphique de variance expliquée...\n",
      "💾 Graphique sauvegardé : ../outputs/pca_variance_analysis.png\n",
      "✅ Graphiques générés localement\n"
     ]
    }
   ],
   "source": [
    "plot_variance_curve(variance_data, k_optimal, save_path=final_plot_path)\n",
    "plot_variance_explained(\n",
    "    variance_data=variance_data,\n",
    "    threshold=0.95,\n",
    "    save_path=analysis_plot_path\n",
    ")\n",
    "\n",
    "print(\"✅ Graphiques générés localement\")\n"
   ]
  },
  {
   "cell_type": "markdown",
   "id": "9d1a16e4",
   "metadata": {},
   "source": [
    "## 9.3 - Upload S3 optimisé avec métadonnées"
   ]
  },
  {
   "cell_type": "code",
   "execution_count": 31,
   "id": "82185383",
   "metadata": {},
   "outputs": [],
   "source": [
    "if MODE in [\"simulation\", \"production\"]:\n",
    "    try:\n",
    "        s3_client = get_s3_client(mode=MODE)\n",
    "        bucket_name = \"fruits-p11-simulation\" if MODE == \"simulation\" else \"fruits-p11-production\"\n",
    "        \n",
    "        # Upload des graphiques avec métadonnées enrichies\n",
    "        plots_config = [\n",
    "            (final_plot_path, \"plots/pca_variance_final.png\", \"variance-curve\"),\n",
    "            (analysis_plot_path, \"plots/pca_variance_analysis.png\", \"variance-analysis\")\n",
    "        ]\n",
    "        \n",
    "        for local_path, s3_key, plot_type in plots_config:\n",
    "            if os.path.exists(local_path):\n",
    "                with open(local_path, 'rb') as f:\n",
    "                    s3_client.put_object(\n",
    "                        Bucket=bucket_name,\n",
    "                        Key=s3_key,\n",
    "                        Body=f.read(),\n",
    "                        ContentType='image/png',\n",
    "                        Metadata={\n",
    "                            'pipeline-version': '2.0',\n",
    "                            'plot-type': plot_type,\n",
    "                            'k-optimal': str(k_optimal),\n",
    "                            'mode': MODE\n",
    "                        }\n",
    "                    )\n",
    "                print(f\"📤 Graphique uploadé : s3://{bucket_name}/{s3_key}\")\n",
    "        \n",
    "        print(\"✅ Tous les graphiques uploadés avec métadonnées\")\n",
    "        \n",
    "    except Exception as e:\n",
    "        print(f\"⚠️ Erreur upload graphiques S3 : {e}\")"
   ]
  },
  {
   "cell_type": "markdown",
   "id": "b45a7f1d",
   "metadata": {},
   "source": [
    "# ============================================================================\n",
    "# 📋 CELLULE 10 : APPLICATION DE L'ACP AVEC K OPTIMAL\n",
    "# ============================================================================"
   ]
  },
  {
   "cell_type": "code",
   "execution_count": 32,
   "id": "2620a7a3",
   "metadata": {},
   "outputs": [
    {
     "name": "stdout",
     "output_type": "stream",
     "text": [
      "\n",
      "🔄 Étape 5/5 : Application de l'ACP avec k=35 composantes...\n"
     ]
    }
   ],
   "source": [
    "print(f\"\\n🔄 Étape 5/5 : Application de l'ACP avec k={k_optimal} composantes...\")"
   ]
  },
  {
   "cell_type": "markdown",
   "id": "f5499521",
   "metadata": {},
   "source": [
    "## 10.1 - Configuration du chemin de sortie selon le mode"
   ]
  },
  {
   "cell_type": "code",
   "execution_count": 33,
   "id": "4cb804f9",
   "metadata": {},
   "outputs": [
    {
     "name": "stdout",
     "output_type": "stream",
     "text": [
      "💾 Sortie PCA : ../outputs/features_pca_optimal.parquet\n",
      "✔ Chargement des données PCA depuis le cache : ../outputs/features_pca_optimal.parquet\n",
      "✅ ACP appliquée avec succès\n"
     ]
    }
   ],
   "source": [
    "if MODE == \"local\":\n",
    "    output_path_pca = f\"../outputs/features_pca_optimal.parquet\"\n",
    "else:\n",
    "    output_path_pca = emr_config.get_storage_path(\"results/features_pca_optimal.parquet\")\n",
    "\n",
    "print(f\"💾 Sortie PCA : {output_path_pca}\")\n",
    "\n",
    "df_pca_optimal = apply_pca_on_features(\n",
    "    spark=spark,\n",
    "    df=df_features_converted,\n",
    "    k=k_optimal,\n",
    "    features_col=\"features\",\n",
    "    output_path=output_path_pca,\n",
    "    force_retrain=False\n",
    ")\n",
    "\n",
    "print(\"✅ ACP appliquée avec succès\")"
   ]
  },
  {
   "cell_type": "markdown",
   "id": "1383e54a",
   "metadata": {},
   "source": [
    "## 10.2 - Vérification des résultats"
   ]
  },
  {
   "cell_type": "code",
   "execution_count": 34,
   "id": "0d316ff2",
   "metadata": {},
   "outputs": [
    {
     "name": "stdout",
     "output_type": "stream",
     "text": [
      "📊 Vérification des données après ACP :\n",
      "root\n",
      " |-- path: string (nullable = true)\n",
      " |-- label: string (nullable = true)\n",
      " |-- features: vector (nullable = true)\n",
      " |-- features_pca: vector (nullable = true)\n",
      "\n"
     ]
    }
   ],
   "source": [
    "print(\"📊 Vérification des données après ACP :\")\n",
    "df_pca_optimal.printSchema()"
   ]
  },
  {
   "cell_type": "markdown",
   "id": "bcb1b2e5",
   "metadata": {},
   "source": [
    "## 10.3 - Inspection des dimensions réduites"
   ]
  },
  {
   "cell_type": "code",
   "execution_count": 35,
   "id": "54628f46",
   "metadata": {},
   "outputs": [
    {
     "name": "stdout",
     "output_type": "stream",
     "text": [
      "🎯 Dimensions après réduction : 56\n",
      "🎯 Facteur de réduction : 22.9x\n"
     ]
    }
   ],
   "source": [
    "sample_pca = df_pca_optimal.select(\"features_pca\").first()[\"features_pca\"]\n",
    "print(f\"🎯 Dimensions après réduction : {sample_pca.size}\")\n",
    "print(f\"🎯 Facteur de réduction : {1280 / sample_pca.size:.1f}x\")"
   ]
  },
  {
   "cell_type": "markdown",
   "id": "c7bea4d0",
   "metadata": {},
   "source": [
    "# ============================================================================\n",
    "# 📋 CELLULE 11 : SAUVEGARDE ET VALIDATION FINALE\n",
    "# ============================================================================"
   ]
  },
  {
   "cell_type": "code",
   "execution_count": 36,
   "id": "db6d8280",
   "metadata": {},
   "outputs": [
    {
     "name": "stdout",
     "output_type": "stream",
     "text": [
      "\n",
      "💾 Sauvegarde des résultats finaux...\n"
     ]
    }
   ],
   "source": [
    "print(\"\\n💾 Sauvegarde des résultats finaux...\")"
   ]
  },
  {
   "cell_type": "markdown",
   "id": "508e87a1",
   "metadata": {},
   "source": [
    "## 11.1 - Sélection des colonnes finales pour la sauvegarde"
   ]
  },
  {
   "cell_type": "code",
   "execution_count": 37,
   "id": "e8bf8a71",
   "metadata": {},
   "outputs": [],
   "source": [
    "df_final = df_pca_optimal.select(\"path\", \"label\", \"features_pca\")"
   ]
  },
  {
   "cell_type": "markdown",
   "id": "22644d24",
   "metadata": {},
   "source": [
    "## 11.2 - Configuration des chemins finaux selon le mode"
   ]
  },
  {
   "cell_type": "code",
   "execution_count": 38,
   "id": "090dd745",
   "metadata": {},
   "outputs": [],
   "source": [
    "if MODE == \"local\":\n",
    "    final_parquet_path = \"../outputs/final_results.parquet\"\n",
    "    final_csv_path = \"../outputs/final_results.csv\"\n",
    "else:\n",
    "    final_parquet_path = emr_config.get_storage_path(\"final_results.parquet\")\n",
    "    final_csv_path = emr_config.get_storage_path(\"final_results.csv\")"
   ]
  },
  {
   "cell_type": "markdown",
   "id": "633af9c1",
   "metadata": {},
   "source": [
    "## 11.3 - Sauvegarde au format Parquet (optimal pour Spark)"
   ]
  },
  {
   "cell_type": "code",
   "execution_count": 39,
   "id": "a304e2b9",
   "metadata": {},
   "outputs": [],
   "source": [
    "df_final.write.mode(\"overwrite\").parquet(final_parquet_path)"
   ]
  },
  {
   "cell_type": "markdown",
   "id": "dd04a93c",
   "metadata": {},
   "source": [
    "## 11.4 - Sauvegarde au format CSV pour compatibilité (sans la colonne features_pca)"
   ]
  },
  {
   "cell_type": "code",
   "execution_count": 40,
   "id": "64a72f96",
   "metadata": {},
   "outputs": [
    {
     "name": "stdout",
     "output_type": "stream",
     "text": [
      "✅ Résultats sauvegardés :\n",
      "   - Format Parquet : ../outputs/final_results.parquet\n",
      "   - Format CSV : ../outputs/final_results.csv\n"
     ]
    }
   ],
   "source": [
    "df_export = df_final.drop(\"features_pca\")\n",
    "df_export.coalesce(1).write.mode(\"overwrite\").option(\"header\", \"true\").csv(final_csv_path)\n",
    "\n",
    "print(f\"✅ Résultats sauvegardés :\")\n",
    "print(f\"   - Format Parquet : {final_parquet_path}\")\n",
    "print(f\"   - Format CSV : {final_csv_path}\")"
   ]
  },
  {
   "cell_type": "markdown",
   "id": "6b5fc836",
   "metadata": {},
   "source": [
    "# ============================================================================\n",
    "# 📋 CELLULE 12 : VALIDATION S3 ET RÉSUMÉ FINAL\n",
    "# ============================================================================"
   ]
  },
  {
   "cell_type": "code",
   "execution_count": 41,
   "id": "1f384470",
   "metadata": {},
   "outputs": [
    {
     "name": "stdout",
     "output_type": "stream",
     "text": [
      "\n",
      "============================================================\n",
      "📊 RÉSUMÉ DU PIPELINE DE TRAITEMENT OPTIMISÉ\n",
      "============================================================\n",
      "🔧 Mode d'exécution : local\n",
      "🚀 GPU activé : True\n",
      "💾 Config mémoire : 6g / 4g\n",
      "🗂️  Nombre d'images traitées : 500\n",
      "🏷️  Nombre de classes détectées : 4\n",
      "📐 Dimensions originales (MobileNetV2) : 1280\n",
      "📐 Dimensions après ACP : 35\n",
      "📊 Variance expliquée : 95%+\n",
      "⚡ Temps calcul PCA : 151.5s\n"
     ]
    }
   ],
   "source": [
    "print(\"\\n\" + \"=\"*60)\n",
    "print(\"📊 RÉSUMÉ DU PIPELINE DE TRAITEMENT OPTIMISÉ\")\n",
    "print(\"=\"*60)\n",
    "\n",
    "print(f\"🔧 Mode d'exécution : {MODE}\")\n",
    "print(f\"🚀 GPU activé : {enable_gpu}\")\n",
    "print(f\"💾 Config mémoire : {memory_config['spark.executor.memory']} / {memory_config['spark.driver.memory']}\")\n",
    "print(f\"🗂️  Nombre d'images traitées : {df_final.count()}\")\n",
    "print(f\"🏷️  Nombre de classes détectées : {df_final.select('label').distinct().count()}\")\n",
    "print(f\"📐 Dimensions originales (MobileNetV2) : 1280\")\n",
    "print(f\"📐 Dimensions après ACP : {k_optimal}\")\n",
    "print(f\"📊 Variance expliquée : 95%+\")\n",
    "print(f\"⚡ Temps calcul PCA : {calc_time:.1f}s\")"
   ]
  },
  {
   "cell_type": "markdown",
   "id": "c9ed94ae",
   "metadata": {},
   "source": [
    "## 12.1 - Calcul de la taille du fichier final pour le mode local"
   ]
  },
  {
   "cell_type": "code",
   "execution_count": 42,
   "id": "2488a75a",
   "metadata": {},
   "outputs": [
    {
     "name": "stdout",
     "output_type": "stream",
     "text": [
      "💾 Taille du fichier final : 0.3 MB (Parquet)\n"
     ]
    }
   ],
   "source": [
    "if MODE == \"local\" and os.path.exists(final_parquet_path):\n",
    "    file_size_mb = sum([os.path.getsize(os.path.join(final_parquet_path, f)) \n",
    "                       for f in os.listdir(final_parquet_path) \n",
    "                       if os.path.isfile(os.path.join(final_parquet_path, f))]) / (1024*1024)\n",
    "    print(f\"💾 Taille du fichier final : {file_size_mb:.1f} MB (Parquet)\")"
   ]
  },
  {
   "cell_type": "markdown",
   "id": "1d5c837e",
   "metadata": {},
   "source": [
    "## 12.2 - Validation S3 avancée avec métadonnées"
   ]
  },
  {
   "cell_type": "code",
   "execution_count": 43,
   "id": "cde87cf5",
   "metadata": {},
   "outputs": [],
   "source": [
    "if MODE in [\"simulation\", \"production\"]:\n",
    "    print(f\"\\n🔍 VALIDATION AVANCÉE S3 - MODE {MODE.upper()}\")\n",
    "    print(\"=\"*50)\n",
    "    \n",
    "    try:\n",
    "        s3_client = get_s3_client(mode=MODE)\n",
    "        bucket_name = \"fruits-p11-simulation\" if MODE == \"simulation\" else \"fruits-p11-production\"\n",
    "        \n",
    "        # Liste des objets avec détails\n",
    "        response = s3_client.list_objects_v2(Bucket=bucket_name)\n",
    "        \n",
    "        if 'Contents' in response:\n",
    "            print(f\"📦 Objets dans {bucket_name}:\")\n",
    "            total_size = 0\n",
    "            objects_by_type = {\"results\": [], \"cache\": [], \"plots\": [], \"test\": []}\n",
    "            \n",
    "            for obj in response['Contents']:\n",
    "                size_mb = obj['Size'] / (1024*1024)\n",
    "                total_size += size_mb\n",
    "                \n",
    "                # Classification par type\n",
    "                if obj['Key'].startswith('results/'):\n",
    "                    objects_by_type[\"results\"].append((obj['Key'], size_mb))\n",
    "                elif obj['Key'].startswith('cache/'):\n",
    "                    objects_by_type[\"cache\"].append((obj['Key'], size_mb))\n",
    "                elif obj['Key'].startswith('plots/'):\n",
    "                    objects_by_type[\"plots\"].append((obj['Key'], size_mb))\n",
    "                else:\n",
    "                    objects_by_type[\"test\"].append((obj['Key'], size_mb))\n",
    "            \n",
    "            # Affichage organisé\n",
    "            for obj_type, obj_list in objects_by_type.items():\n",
    "                if obj_list:\n",
    "                    print(f\"\\n📁 {obj_type.upper()}:\")\n",
    "                    for key, size in obj_list:\n",
    "                        print(f\"   📄 {key} ({size:.2f} MB)\")\n",
    "            \n",
    "            print(f\"\\n📊 Taille totale S3 : {total_size:.2f} MB\")\n",
    "            print(f\"📊 Nombre total d'objets : {len(response['Contents'])}\")\n",
    "            \n",
    "            # Test intégrité des résultats principaux\n",
    "            main_results = [\"final_results.parquet\", \"results/features_pca_optimal.parquet\"]\n",
    "            for result_pattern in main_results:\n",
    "                matching_objects = [obj for obj in response['Contents'] if result_pattern in obj['Key']]\n",
    "                if matching_objects:\n",
    "                    print(f\"✅ Résultat principal trouvé : {result_pattern}\")\n",
    "                else:\n",
    "                    print(f\"⚠️ Résultat principal manquant : {result_pattern}\")\n",
    "            \n",
    "        else:\n",
    "            print(\"📦 Bucket vide ou inaccessible\")\n",
    "        \n",
    "        print(\"✅ Pipeline simulation S3 validé avec succès !\")\n",
    "        \n",
    "    except Exception as e:\n",
    "        print(f\"❌ Erreur validation S3 : {e}\")\n",
    "        print(\"💡 Vérifiez que LocalStack est démarré pour le mode simulation\")"
   ]
  },
  {
   "cell_type": "markdown",
   "id": "1561f575",
   "metadata": {},
   "source": [
    "## 12.3 - Comparaison performance vs notebook 01"
   ]
  },
  {
   "cell_type": "code",
   "execution_count": 44,
   "id": "17568e59",
   "metadata": {},
   "outputs": [
    {
     "name": "stdout",
     "output_type": "stream",
     "text": [
      "\n",
      "📈 COMPARAISON PERFORMANCE\n",
      "==============================\n",
      "⚡ Notebook 01 (local) : ~8-10 min PCA\n",
      "🚀 Notebook 02 (optimisé) : 151.5s PCA\n",
      "📊 Accélération : 4.0x plus rapide\n",
      "\n",
      "✅ PIPELINE TERMINÉ AVEC SUCCÈS EN MODE LOCAL !\n",
      "💡 Les données sont prêtes pour le déploiement cloud ou l'entraînement de modèles\n"
     ]
    }
   ],
   "source": [
    "print(f\"\\n📈 COMPARAISON PERFORMANCE\")\n",
    "print(\"=\"*30)\n",
    "print(f\"⚡ Notebook 01 (local) : ~8-10 min PCA\")\n",
    "print(f\"🚀 Notebook 02 (optimisé) : {calc_time:.1f}s PCA\")\n",
    "print(f\"📊 Accélération : {(600/max(calc_time,1)):.1f}x plus rapide\")\n",
    "\n",
    "print(f\"\\n✅ PIPELINE TERMINÉ AVEC SUCCÈS EN MODE {MODE.upper()} !\")\n",
    "print(\"💡 Les données sont prêtes pour le déploiement cloud ou l'entraînement de modèles\")"
   ]
  },
  {
   "cell_type": "markdown",
   "id": "6d9be78f",
   "metadata": {},
   "source": [
    "## 12.4 - Informations session Spark détaillées"
   ]
  },
  {
   "cell_type": "code",
   "execution_count": 45,
   "id": "2edb44c4",
   "metadata": {},
   "outputs": [
    {
     "name": "stdout",
     "output_type": "stream",
     "text": [
      "\n",
      "💡 Session Spark active : local-1753793069187\n",
      "🔧 Master URL : local[*]\n",
      "💾 Executor memory : 6g\n",
      "🧠 Driver memory : 4g\n",
      "   Pour arrêter : spark.stop()\n"
     ]
    }
   ],
   "source": [
    "print(f\"\\n💡 Session Spark active : {spark.sparkContext.applicationId}\")\n",
    "print(f\"🔧 Master URL : {spark.sparkContext.master}\")\n",
    "print(f\"💾 Executor memory : {spark.conf.get('spark.executor.memory')}\")\n",
    "print(f\"🧠 Driver memory : {spark.conf.get('spark.driver.memory')}\")\n",
    "print(\"   Pour arrêter : spark.stop()\")"
   ]
  },
  {
   "cell_type": "markdown",
   "id": "f3f9fa93",
   "metadata": {},
   "source": [
    "# ============================================================================\n",
    "# 📋 CELLULE 13 : NETTOYAGE INTELLIGENT\n",
    "# ============================================================================\n",
    "\n",
    "## 13.1 - Nettoyage intelligent selon le mode"
   ]
  },
  {
   "cell_type": "code",
   "execution_count": 46,
   "id": "cf98f82f",
   "metadata": {},
   "outputs": [
    {
     "name": "stdout",
     "output_type": "stream",
     "text": [
      "\n",
      "🧹 Nettoyage intelligent des fichiers temporaires...\n"
     ]
    }
   ],
   "source": [
    "print(\"\\n🧹 Nettoyage intelligent des fichiers temporaires...\")"
   ]
  },
  {
   "cell_type": "markdown",
   "id": "18b823a6",
   "metadata": {},
   "source": [
    "## 13.2 - Nettoyage des fichiers temporaires pour les modes S3"
   ]
  },
  {
   "cell_type": "code",
   "execution_count": 47,
   "id": "8e9f1f5c",
   "metadata": {},
   "outputs": [],
   "source": [
    "if MODE in [\"simulation\", \"production\"]:\n",
    "    temp_files = [\n",
    "        \"/tmp/pca_variance_plot.png\", \n",
    "        \"/tmp/pca_variance_final.png\", \n",
    "        \"/tmp/pca_variance_analysis.png\"\n",
    "    ]\n",
    "    \n",
    "    cleaned_count = 0\n",
    "    for temp_file in temp_files:\n",
    "        if os.path.exists(temp_file):\n",
    "            try:\n",
    "                os.remove(temp_file)\n",
    "                cleaned_count += 1\n",
    "            except Exception as e:\n",
    "                print(f\"⚠️ Erreur suppression {temp_file}: {e}\")\n",
    "    \n",
    "    if cleaned_count > 0:\n",
    "        print(f\"🗑️ {cleaned_count} fichiers temporaires nettoyés\")\n",
    "    else:\n",
    "        print(\"✅ Aucun fichier temporaire à nettoyer\")"
   ]
  },
  {
   "cell_type": "markdown",
   "id": "1932f80f",
   "metadata": {},
   "source": [
    "## 13.3 - Rapport final pour soutenance"
   ]
  },
  {
   "cell_type": "code",
   "execution_count": 48,
   "id": "0fe4f70c",
   "metadata": {},
   "outputs": [
    {
     "name": "stdout",
     "output_type": "stream",
     "text": [
      "\n",
      "🎓 RAPPORT FINAL POUR SOUTENANCE\n",
      "========================================\n",
      "📅 Mode testé : local\n",
      "🚀 GPU utilisé : ✅\n",
      "📊 Images traitées : 500\n",
      "⚡ Performance PCA : 151.5s\n",
      "📐 Réduction : 1280 → 35 dims\n",
      "💾 Facteur compression : 36.6x\n",
      "\n",
      "🎯 PRÊT POUR AWS EMR PRODUCTION !\n",
      "💡 Ce pipeline est validé et prêt pour la migration\n"
     ]
    }
   ],
   "source": [
    "print(f\"\\n🎓 RAPPORT FINAL POUR SOUTENANCE\")\n",
    "print(\"=\"*40)\n",
    "print(f\"📅 Mode testé : {MODE}\")\n",
    "print(f\"🚀 GPU utilisé : {'✅' if enable_gpu else '❌'}\")\n",
    "print(f\"📊 Images traitées : {df_final.count()}\")\n",
    "print(f\"⚡ Performance PCA : {calc_time:.1f}s\")\n",
    "print(f\"📐 Réduction : 1280 → {k_optimal} dims\")\n",
    "print(f\"💾 Facteur compression : {1280/k_optimal:.1f}x\")\n",
    "\n",
    "if MODE in [\"simulation\", \"production\"]:\n",
    "    print(f\"☁️ Stockage S3 : ✅ Opérationnel\")\n",
    "    print(f\"🪣 Bucket : {bucket_name}\")\n",
    "    print(f\"📦 Objets sauvegardés : Résultats + Cache + Graphiques\")\n",
    "\n",
    "print(f\"\\n🎯 PRÊT POUR AWS EMR PRODUCTION !\")\n",
    "print(\"💡 Ce pipeline est validé et prêt pour la migration\")"
   ]
  },
  {
   "cell_type": "markdown",
   "id": "c3d00578",
   "metadata": {},
   "source": [
    "## 13.4 - Instructions pour la suite"
   ]
  },
  {
   "cell_type": "code",
   "execution_count": 49,
   "id": "c0c71cfd",
   "metadata": {},
   "outputs": [
    {
     "name": "stdout",
     "output_type": "stream",
     "text": [
      "\n",
      "📋 PROCHAINES ÉTAPES RECOMMANDÉES\n",
      "===================================\n",
      "1. 🔄 Tester ce notebook en mode 'local' si pas fait\n",
      "2. ☁️ Migrer vers mode 'production' avec AWS EMR\n",
      "3. 📈 Augmenter sample_size à 22000+ pour dataset complet\n",
      "4. 📊 Capturer métriques de performance pour soutenance\n",
      "5. 🎤 Préparer demo live avec screenshots\n"
     ]
    }
   ],
   "source": [
    "print(f\"\\n📋 PROCHAINES ÉTAPES RECOMMANDÉES\")\n",
    "print(\"=\"*35)\n",
    "print(\"1. 🔄 Tester ce notebook en mode 'local' si pas fait\")\n",
    "print(\"2. ☁️ Migrer vers mode 'production' avec AWS EMR\")\n",
    "print(\"3. 📈 Augmenter sample_size à 22000+ pour dataset complet\")\n",
    "print(\"4. 📊 Capturer métriques de performance pour soutenance\")\n",
    "print(\"5. 🎤 Préparer demo live avec screenshots\")"
   ]
  },
  {
   "cell_type": "markdown",
   "id": "54b71791",
   "metadata": {},
   "source": [
    "## 13.5 - Décommenter la cellule suivante pour arrêter Spark automatiquement"
   ]
  },
  {
   "cell_type": "code",
   "execution_count": 50,
   "id": "48c34279",
   "metadata": {},
   "outputs": [],
   "source": [
    "# print(\"\\n🔴 Arrêt de la session Spark...\")\n",
    "# spark.stop()\n",
    "# print(\"✅ Session Spark fermée proprement\")"
   ]
  },
  {
   "cell_type": "code",
   "execution_count": 51,
   "id": "5d866587",
   "metadata": {},
   "outputs": [
    {
     "name": "stdout",
     "output_type": "stream",
     "text": [
      "\n",
      "🚀 NOTEBOOK 02 TERMINÉ - SESSION SPARK ACTIVE\n",
      "💡 Penser à arrêter Spark quand le travail est terminé : spark.stop()\n"
     ]
    }
   ],
   "source": [
    "print(\"\\n🚀 NOTEBOOK 02 TERMINÉ - SESSION SPARK ACTIVE\")\n",
    "print(\"💡 Penser à arrêter Spark quand le travail est terminé : spark.stop()\")"
   ]
  },
  {
   "cell_type": "markdown",
   "id": "b82bc1dd",
   "metadata": {},
   "source": [
    "# ============================================================================\n",
    "# 📋 CELLULE 14 : NOTES DÉVELOPPEUR (OPTIONNEL)\n",
    "# ============================================================================\n",
    "## 14.1 - Notes pour debugging et optimisation future"
   ]
  },
  {
   "cell_type": "markdown",
   "id": "161b3153",
   "metadata": {},
   "source": [
    "\"\"\"\n",
    "📝 NOTES DÉVELOPPEUR - Optimisations appliquées\n",
    "\n",
    "🔴 MODIFICATIONS MAJEURES vs Notebook 01:\n",
    "1. Module EMR unifié avec gestion automatique mémoire\n",
    "2. Auto-détection GPU et config adaptative  \n",
    "3. Réutilisation cache PCA du notebook 01 (k=56)\n",
    "4. Upload S3 avec métadonnées enrichies\n",
    "5. Tests de connectivité S3 avancés\n",
    "6. Nettoyage intelligent des ressources\n",
    "\n",
    "⚡ PERFORMANCE GAINS:\n",
    "- PCA: 8-10 min → ~30s (réutilisation cache)\n",
    "- Config mémoire: Manuel → Automatique\n",
    "- S3 upload: Basique → Avec métadonnées\n",
    "- Tests: Simples → Avancés avec validation\n",
    "\n",
    "🎯 PRÊT POUR PRODUCTION:\n",
    "- Architecture multi-mode validée ✅\n",
    "- GPU/CPU auto-adaptatif ✅  \n",
    "- S3 simulation opérationnelle ✅\n",
    "- Pipeline optimisé et accéléré ✅\n",
    "\n",
    "🔄 PROCHAINE ÉTAPE: Migration AWS EMR avec ce code validé\n",
    "\"\"\"\n",
    "print(\"📝 Notes développeur chargées - voir code source pour détails\")"
   ]
  },
  {
   "cell_type": "code",
   "execution_count": 52,
   "id": "a9159879",
   "metadata": {},
   "outputs": [
    {
     "name": "stdout",
     "output_type": "stream",
     "text": [
      "📝 Notes développeur chargées - voir code source pour détails\n"
     ]
    }
   ],
   "source": [
    "print(\"📝 Notes développeur chargées - voir code source pour détails\")"
   ]
  },
  {
   "cell_type": "markdown",
   "id": "3e64bf4f",
   "metadata": {},
   "source": [
    "# ============================================================================\n",
    "# 📋 CELLULE 15 : VISUALISATION 2D POST-ACP (OPTIONNELLE)\n",
    "# ============================================================================"
   ]
  },
  {
   "cell_type": "code",
   "execution_count": 53,
   "id": "6ff8a036",
   "metadata": {},
   "outputs": [
    {
     "name": "stdout",
     "output_type": "stream",
     "text": [
      "\n",
      "📊 Visualisation 2D des features PCA (local-only)...\n"
     ]
    }
   ],
   "source": [
    "print(\"\\n📊 Visualisation 2D des features PCA (local-only)...\")"
   ]
  },
  {
   "cell_type": "markdown",
   "id": "b5dba31f",
   "metadata": {},
   "source": [
    "## 15.1 - Configuration (à désactiver si inutilisé)"
   ]
  },
  {
   "cell_type": "code",
   "execution_count": 54,
   "id": "6a47a457",
   "metadata": {},
   "outputs": [
    {
     "name": "stdout",
     "output_type": "stream",
     "text": [
      "📥 Récupération des données PCA pour visualisation...\n",
      "📐 Forme des données : (500, 56)\n",
      "🏷️ Nombre de classes : 4\n",
      "✅ Graphique sauvegardé : ../outputs/pca_2d_visualisation.png\n"
     ]
    }
   ],
   "source": [
    "enable_tsne_plot = True\n",
    "\n",
    "if enable_tsne_plot:\n",
    "    import pandas as pd\n",
    "    from sklearn.decomposition import PCA as SKPCA\n",
    "    import seaborn as sns\n",
    "\n",
    "    # 💾 Récupération des features PCA en mémoire locale\n",
    "    print(\"📥 Récupération des données PCA pour visualisation...\")\n",
    "    df_pandas = df_final.select(\"label\", \"features_pca\").toPandas()\n",
    "\n",
    "    features_array = np.array(df_pandas[\"features_pca\"].tolist())\n",
    "    labels_array = np.array(df_pandas[\"label\"].tolist())\n",
    "\n",
    "    print(f\"📐 Forme des données : {features_array.shape}\")\n",
    "    print(f\"🏷️ Nombre de classes : {len(set(labels_array))}\")\n",
    "\n",
    "    # 🎨 Réduction à 2 dimensions (PCA locale)\n",
    "    pca_visu = SKPCA(n_components=2)\n",
    "    reduced_2d = pca_visu.fit_transform(features_array)\n",
    "\n",
    "    df_visu = pd.DataFrame({\n",
    "        \"x\": reduced_2d[:, 0],\n",
    "        \"y\": reduced_2d[:, 1],\n",
    "        \"label\": labels_array\n",
    "    })\n",
    "\n",
    "    # 📈 Tracé du graphique\n",
    "    plt.figure(figsize=(10, 8))\n",
    "    sns.scatterplot(data=df_visu, x=\"x\", y=\"y\", hue=\"label\", palette=\"tab10\", s=60, alpha=0.8, edgecolor=\"k\")\n",
    "    plt.title(\"Projection 2D des vecteurs PCA (500 échantillons)\")\n",
    "    plt.xlabel(\"Composante 1\")\n",
    "    plt.ylabel(\"Composante 2\")\n",
    "    plt.legend(title=\"Label\", bbox_to_anchor=(1.05, 1), loc='upper left')\n",
    "    plt.tight_layout()\n",
    "\n",
    "    # 📁 Enregistrement local + éventuel upload S3\n",
    "    if MODE == \"local\":\n",
    "        pca_visu_path = \"../outputs/pca_2d_visualisation.png\"\n",
    "    else:\n",
    "        pca_visu_path = \"/tmp/pca_2d_visualisation.png\"\n",
    "\n",
    "    plt.savefig(pca_visu_path)\n",
    "    print(f\"✅ Graphique sauvegardé : {pca_visu_path}\")\n",
    "\n",
    "    if MODE in [\"simulation\", \"production\"]:\n",
    "        try:\n",
    "            s3_client = get_s3_client(mode=MODE)\n",
    "            s3_key_visu = \"plots/pca_2d_visualisation.png\"\n",
    "            bucket_name = \"fruits-p11-simulation\" if MODE == \"simulation\" else \"fruits-p11-production\"\n",
    "\n",
    "            with open(pca_visu_path, 'rb') as f:\n",
    "                s3_client.put_object(\n",
    "                    Bucket=bucket_name,\n",
    "                    Key=s3_key_visu,\n",
    "                    Body=f.read(),\n",
    "                    ContentType='image/png',\n",
    "                    Metadata={\n",
    "                        'pipeline-version': '2.0',\n",
    "                        'plot-type': 'pca-2d',\n",
    "                        'mode': MODE\n",
    "                    }\n",
    "                )\n",
    "            print(f\"📤 Graphique PCA 2D uploadé : s3://{bucket_name}/{s3_key_visu}\")\n",
    "        except Exception as e:\n",
    "            print(f\"⚠️ Erreur upload S3 visualisation 2D : {e}\")\n",
    "else:\n",
    "    print(\"⏭️ Visualisation 2D désactivée (enable_tsne_plot=False)\")"
   ]
  },
  {
   "cell_type": "code",
   "execution_count": 56,
   "id": "b736de14",
   "metadata": {},
   "outputs": [],
   "source": [
    "# from IPython.display import Image, display\n",
    "# display(Image(filename=\"/tmp/pca_2d_visualisation.png\"))"
   ]
  },
  {
   "cell_type": "code",
   "execution_count": null,
   "id": "0107d512",
   "metadata": {},
   "outputs": [],
   "source": []
  }
 ],
 "metadata": {
  "kernelspec": {
   "display_name": "Python (venv_p11)",
   "language": "python",
   "name": "venv_p11"
  },
  "language_info": {
   "codemirror_mode": {
    "name": "ipython",
    "version": 3
   },
   "file_extension": ".py",
   "mimetype": "text/x-python",
   "name": "python",
   "nbconvert_exporter": "python",
   "pygments_lexer": "ipython3",
   "version": "3.10.12"
  }
 },
 "nbformat": 4,
 "nbformat_minor": 5
}
